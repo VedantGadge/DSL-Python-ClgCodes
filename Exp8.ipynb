{
 "cells": [
  {
   "cell_type": "markdown",
   "id": "ab0aa45d-3fe6-4198-920e-2bdac04ba7a6",
   "metadata": {},
   "source": [
    "# Experiment 8\n",
    "# D115 Vedant Gadge 60009230120"
   ]
  },
  {
   "cell_type": "code",
   "execution_count": null,
   "id": "b3f54ae1",
   "metadata": {},
   "outputs": [],
   "source": []
  },
  {
   "cell_type": "code",
   "execution_count": 17,
   "id": "4495166a-d819-4a0a-9f40-616c435f15be",
   "metadata": {},
   "outputs": [],
   "source": [
    "import numpy as np\n",
    "from scipy import stats"
   ]
  },
  {
   "cell_type": "markdown",
   "id": "d744afd4-6ace-421c-8469-a92f4d4a3d89",
   "metadata": {},
   "source": [
    "### 1. Calculate the mean of an array of numbers [3, 6, 9,12, 15]."
   ]
  },
  {
   "cell_type": "code",
   "execution_count": 18,
   "id": "aff9c99a-5932-4b8c-9d70-9886b28b2b48",
   "metadata": {},
   "outputs": [
    {
     "name": "stdout",
     "output_type": "stream",
     "text": [
      "[3, 6, 9, 12, 15]\n",
      "Mean of the array is:  9.0\n"
     ]
    }
   ],
   "source": [
    "array = [3,6,9,12,15]\n",
    "print(array)\n",
    "print(\"Mean of the array is: \",np.mean(array))"
   ]
  },
  {
   "cell_type": "markdown",
   "id": "8118b1a9-83ba-4c82-8aaa-89337b6cefb7",
   "metadata": {},
   "source": [
    "### 2. Determine the median of an array of numbers [7, 3, 9, 1, 5]."
   ]
  },
  {
   "cell_type": "code",
   "execution_count": 19,
   "id": "976ba878-a20f-4570-9786-6ef07bb7a3ed",
   "metadata": {},
   "outputs": [
    {
     "name": "stdout",
     "output_type": "stream",
     "text": [
      "[7, 3, 9, 1, 5]\n",
      "Median of the array is:  5.0\n"
     ]
    }
   ],
   "source": [
    "array = [7,3,9,1,5]\n",
    "print(array)\n",
    "print(\"Median of the array is: \",np.median(array))"
   ]
  },
  {
   "cell_type": "markdown",
   "id": "e2a5ab10-1230-410a-ae00-18a27c01e27f",
   "metadata": {},
   "source": [
    "### 3. Find the mode of an array of integers [4, 1, 2, 2, 3, 4, 4]."
   ]
  },
  {
   "cell_type": "code",
   "execution_count": 20,
   "id": "bb392a15-f331-47d9-b988-a9876b3272ed",
   "metadata": {},
   "outputs": [
    {
     "name": "stdout",
     "output_type": "stream",
     "text": [
      "[4, 1, 2, 2, 3, 4, 4]\n",
      "Mode of the array is:  4\n"
     ]
    }
   ],
   "source": [
    "array = [4,1,2,2,3,4,4]\n",
    "print(array)\n",
    "print(\"Mode of the array is: \",stats.mode(array)[0]) \n",
    "#numpy doesnt have mode , so we use scipy instead\n",
    "#scipy.mode() returns an array of two elements => [mode , no. of times mode has occurred]"
   ]
  },
  {
   "cell_type": "markdown",
   "id": "b9a23c46-2ec2-43a1-989d-102402e4fed7",
   "metadata": {},
   "source": [
    "### 4. Compute the variance of an array of numbers [2, 4, 4, 4, 5, 5, 7, 9]."
   ]
  },
  {
   "cell_type": "code",
   "execution_count": 21,
   "id": "9117c3f9-db9b-4898-95b9-ed73dec6598e",
   "metadata": {},
   "outputs": [
    {
     "name": "stdout",
     "output_type": "stream",
     "text": [
      "[2, 4, 4, 4, 5, 5, 7, 9]\n",
      "Variance of the array is:  4.0\n"
     ]
    }
   ],
   "source": [
    "array = [2,4,4,4,5,5,7,9]\n",
    "print(array)\n",
    "print(\"Variance of the array is: \",np.var(array)) "
   ]
  },
  {
   "cell_type": "markdown",
   "id": "c4350515-3e11-4c82-8553-4e39813d5dd5",
   "metadata": {},
   "source": [
    "### 5. Calculate the standard deviation of an array of numbers [10, 12, 23, 23, 16, 23, 21, 16]."
   ]
  },
  {
   "cell_type": "code",
   "execution_count": 22,
   "id": "13caa992-bf33-4ae9-b7a8-d3fb84c6e6b7",
   "metadata": {
    "scrolled": true
   },
   "outputs": [
    {
     "name": "stdout",
     "output_type": "stream",
     "text": [
      "[10, 12, 23, 23, 16, 23, 21, 16]\n",
      "Standard Deviation of the elements in the array is:  4.898979485566356\n"
     ]
    }
   ],
   "source": [
    "array = [10,12,23,23,16,23,21,16]\n",
    "print(array)\n",
    "print(\"Standard Deviation of the elements in the array is: \",np.std(array))"
   ]
  },
  {
   "cell_type": "markdown",
   "id": "6a28b80b-806e-4549-aacf-bce211b12556",
   "metadata": {},
   "source": [
    "### 6. Determine the range of an array of numbers [3, 7, 8, 5, 12, 14, 21, 13, 18]."
   ]
  },
  {
   "cell_type": "code",
   "execution_count": 23,
   "id": "1d69200a-4b3b-4ebf-8a57-99df6d2bf60c",
   "metadata": {},
   "outputs": [
    {
     "name": "stdout",
     "output_type": "stream",
     "text": [
      "[3, 7, 8, 5, 12, 14, 21, 13, 18]\n",
      "Range of the array is:  18\n"
     ]
    }
   ],
   "source": [
    "array = [3,7,8,5,12,14,21,13,18]\n",
    "print(array)\n",
    "print(\"Range of the array is: \",np.max(array)-np.min(array)) "
   ]
  },
  {
   "cell_type": "markdown",
   "id": "2af24b0b-1197-4f76-ace7-8a5d604f1a04",
   "metadata": {},
   "source": [
    "### 7. Compute the Pearson correlation coefficient between two arrays [1, 2, 3, 4, 5] and [2, 4, 6, 8, 10]."
   ]
  },
  {
   "cell_type": "code",
   "execution_count": 24,
   "id": "0acf75be-7add-45f2-a27d-bbdfaf2f086a",
   "metadata": {},
   "outputs": [
    {
     "name": "stdout",
     "output_type": "stream",
     "text": [
      "The Pearson correlation coefficient of the two arrays is:  1.0\n"
     ]
    }
   ],
   "source": [
    "array1 = [1,2,3,4,5]\n",
    "array2 = [2,4,6,8,10]\n",
    "print(\"The Pearson correlation coefficient of the two arrays is: \",np.corrcoef(array1,array2)) "
   ]
  },
  {
   "cell_type": "markdown",
   "id": "aa7ca672-f637-4adf-b83e-0c5d4f95a955",
   "metadata": {},
   "source": [
    "### 8. Create an array of 20 zeros."
   ]
  },
  {
   "cell_type": "code",
   "execution_count": 25,
   "id": "a5c0a5a2-a6b8-4af0-a7fe-47e69884e4b9",
   "metadata": {},
   "outputs": [
    {
     "name": "stdout",
     "output_type": "stream",
     "text": [
      "An array with 20 zeroes:  [0 0 0 0 0 0 0 0 0 0 0 0 0 0 0 0 0 0 0 0]\n"
     ]
    }
   ],
   "source": [
    "print(\"An array with 20 zeroes: \", np.zeros(20 , dtype = int))"
   ]
  },
  {
   "cell_type": "markdown",
   "id": "379abea0-ba0a-4925-9bbd-f98084852e79",
   "metadata": {},
   "source": [
    "### 9. Generate a 4x4 identity m"
   ]
  },
  {
   "cell_type": "code",
   "execution_count": 26,
   "id": "7af376b3-73b5-4c1c-8a60-1812c07a3d28",
   "metadata": {},
   "outputs": [
    {
     "name": "stdout",
     "output_type": "stream",
     "text": [
      "An array with 20 zeroes: \n",
      " [[1 0 0 0]\n",
      " [0 1 0 0]\n",
      " [0 0 1 0]\n",
      " [0 0 0 1]]\n"
     ]
    }
   ],
   "source": [
    "print(\"An array with 20 zeroes: \\n\", np.identity(4 , dtype = int))"
   ]
  },
  {
   "cell_type": "markdown",
   "id": "c34bc7e2-b91a-4063-b245-6b1f7b7cc76b",
   "metadata": {},
   "source": [
    "### 10. Calculate the dot product of arrays [1, 2, 3] and [4, 5, 6]."
   ]
  },
  {
   "cell_type": "code",
   "execution_count": 27,
   "id": "454ed9ba-46ec-4d61-b913-4c2add7a81af",
   "metadata": {},
   "outputs": [
    {
     "name": "stdout",
     "output_type": "stream",
     "text": [
      "The dot product of the two arrays is:  32\n"
     ]
    }
   ],
   "source": [
    "array1 = [1,2,3]\n",
    "array2 = [4,5,6]\n",
    "print(\"The dot product of the two arrays is: \",np.dot(array1,array2)) "
   ]
  },
  {
   "cell_type": "markdown",
   "id": "c31451e0-af3b-4504-bfc4-6e5fdd1f7bb8",
   "metadata": {},
   "source": [
    "### 11. Reshape an array of 12 elements into a 3x4."
   ]
  },
  {
   "cell_type": "code",
   "execution_count": 28,
   "id": "6093eab8-ff85-486a-ac64-832797e4bbe5",
   "metadata": {},
   "outputs": [
    {
     "name": "stdout",
     "output_type": "stream",
     "text": [
      "The dot product of the two arrays is: \n",
      " [[ 1  2  3  4]\n",
      " [ 5  6  7  8]\n",
      " [ 9 10 11 12]]\n"
     ]
    }
   ],
   "source": [
    "array = [1, 2, 3, 4, 5, 6, 7, 8, 9, 10,11,12]\n",
    "print(\"The dot product of the two arrays is: \\n\",np.reshape(array,(3,4)))"
   ]
  },
  {
   "cell_type": "markdown",
   "id": "c29a6f7d-bf6b-44cf-ba80-ce5401073076",
   "metadata": {},
   "source": [
    "### 12. Manually compute the Pearson correlation coefficient between two arrays [1, 2, 3, 5] and [2, 3, 4, 6] using the formula."
   ]
  },
  {
   "cell_type": "code",
   "execution_count": 31,
   "id": "f976ebe4-2bdf-4fba-b6de-db6fcfadc611",
   "metadata": {},
   "outputs": [
    {
     "name": "stdout",
     "output_type": "stream",
     "text": [
      "Pearson Correlation Coefficient: 1.0\n"
     ]
    }
   ],
   "source": [
    "x = np.array([1, 2, 3, 5])\n",
    "y = np.array([2, 3, 4, 6])\n",
    "\n",
    "n = len(x)\n",
    "\n",
    "sum_x = np.sum(x)\n",
    "sum_y = np.sum(y)\n",
    "sum_xy = np.sum(x * y)\n",
    "sum_x_squared = np.sum(x ** 2)\n",
    "sum_y_squared = np.sum(y ** 2)\n",
    "\n",
    "numerator = n * sum_xy - sum_x * sum_y\n",
    "denominator = np.sqrt((n * sum_x_squared - sum_x ** 2) * (n * sum_y_squared - sum_y ** 2))\n",
    "\n",
    "correlation_coefficient = numerator / denominator\n",
    "print(f\"Pearson Correlation Coefficient: {correlation_coefficient}\")"
   ]
  }
 ],
 "metadata": {
  "kernelspec": {
   "display_name": "Python 3 (ipykernel)",
   "language": "python",
   "name": "python3"
  },
  "language_info": {
   "codemirror_mode": {
    "name": "ipython",
    "version": 3
   },
   "file_extension": ".py",
   "mimetype": "text/x-python",
   "name": "python",
   "nbconvert_exporter": "python",
   "pygments_lexer": "ipython3",
   "version": "3.11.4"
  },
  "widgets": {
   "application/vnd.jupyter.widget-state+json": {
    "state": {},
    "version_major": 2,
    "version_minor": 0
   }
  }
 },
 "nbformat": 4,
 "nbformat_minor": 5
}
