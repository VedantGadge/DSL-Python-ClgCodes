{
 "cells": [
  {
   "cell_type": "markdown",
   "id": "6e040988",
   "metadata": {},
   "source": [
    "# Experiment 7\n",
    "# Vedant Gadge D115 60009230120 D2-2"
   ]
  },
  {
   "cell_type": "code",
   "execution_count": 3,
   "id": "c8d87a8a",
   "metadata": {},
   "outputs": [],
   "source": [
    "import numpy as np"
   ]
  },
  {
   "cell_type": "markdown",
   "id": "3a10549e-2114-4cf7-87f3-d4f45e2b15e6",
   "metadata": {},
   "source": [
    "### 1. Create a 3x3 matrix of random integers between 1 and 10 and find the total sum of its elements."
   ]
  },
  {
   "cell_type": "code",
   "execution_count": 22,
   "id": "44d51d57",
   "metadata": {},
   "outputs": [
    {
     "name": "stdout",
     "output_type": "stream",
     "text": [
      "[[ 8  3  6]\n",
      " [ 4  3  3]\n",
      " [ 5  6 10]]\n",
      "The sum is:  48\n"
     ]
    }
   ],
   "source": [
    "array = np.random.randint(1,11,size=(3,3))\n",
    "print(array)\n",
    "print('The sum is: ',np.sum(array))"
   ]
  },
  {
   "cell_type": "markdown",
   "id": "c693baa4-5d00-49c5-80fb-9d5da4f0cb78",
   "metadata": {},
   "source": [
    "### 2. Generate a 4x4 matrix of random numbers and compute the average of all its elements."
   ]
  },
  {
   "cell_type": "code",
   "execution_count": 10,
   "id": "0cbd0547",
   "metadata": {},
   "outputs": [
    {
     "name": "stdout",
     "output_type": "stream",
     "text": [
      "[[ 9 10  0  2]\n",
      " [ 1  5  1  6]\n",
      " [ 3  9  8 10]\n",
      " [ 7  8  7  3]]\n",
      "The average is:  5.5625\n"
     ]
    }
   ],
   "source": [
    "array = np.random.randint(11,size=(4,4))\n",
    "print(array)\n",
    "print('The average is: ',np.mean(array))"
   ]
  },
  {
   "cell_type": "markdown",
   "id": "7c2faea1-1ff9-41a1-b26f-d77839723c44",
   "metadata": {},
   "source": [
    "### 3. Create a 2x3 matrix and find the sum of all elements in the second row"
   ]
  },
  {
   "cell_type": "code",
   "execution_count": 16,
   "id": "04f8b01e",
   "metadata": {},
   "outputs": [
    {
     "name": "stdout",
     "output_type": "stream",
     "text": [
      "[[1 2 5]\n",
      " [1 4 8]]\n",
      "The sum of elements in second row is:  13\n"
     ]
    }
   ],
   "source": [
    "array = np.random.randint(11,size=(2,3))\n",
    "print(array)\n",
    "print('The sum of elements in second row is: ',np.sum(array,axis = 1)[1])  \n",
    "#np.sum(array,axis = 1) returns a new array which consists the sum of each row , we want just the second row so we use [1]"
   ]
  },
  {
   "cell_type": "markdown",
   "id": "d0f7dc01-1dea-404e-8c5d-7677d6e3eb64",
   "metadata": {},
   "source": [
    "### 4. Generate a 5x5 matrix of random integers and determine the highest value in each column"
   ]
  },
  {
   "cell_type": "code",
   "execution_count": 21,
   "id": "3db47f22",
   "metadata": {},
   "outputs": [
    {
     "name": "stdout",
     "output_type": "stream",
     "text": [
      "[[ 8  4  2  6 10]\n",
      " [10  0  9  1  4]\n",
      " [ 2  8  1  7  5]\n",
      " [10  5  9  0  1]\n",
      " [10  3  9  6  6]]\n",
      "The max element in each column is:  [10  8  9  7 10]\n"
     ]
    }
   ],
   "source": [
    "array = np.random.randint(11,size=(5,5))\n",
    "print(array)\n",
    "print('The max element in each column is: ',np.max(array,axis = 0))"
   ]
  },
  {
   "cell_type": "markdown",
   "id": "e7cfce49-8505-45f8-a8dc-8c0362f957a1",
   "metadata": {},
   "source": [
    "### 5. Create a 4x4 matrix and calculate the sum of its main diagonal elements."
   ]
  },
  {
   "cell_type": "code",
   "execution_count": 25,
   "id": "61411ba7",
   "metadata": {},
   "outputs": [
    {
     "name": "stdout",
     "output_type": "stream",
     "text": [
      "[[7 4 4 9]\n",
      " [7 8 9 6]\n",
      " [6 8 4 1]\n",
      " [0 3 2 6]]\n",
      "The sum of elements in the diagonal is:  25\n"
     ]
    }
   ],
   "source": [
    "array = np.random.randint(11,size=(4,4))\n",
    "print(array)\n",
    "print('The sum of elements in the diagonal is: ',np.matrix(array).diagonal().sum())"
   ]
  },
  {
   "cell_type": "markdown",
   "id": "7671c692-5e6d-41b4-aeeb-fdf9075c9808",
   "metadata": {},
   "source": [
    "### 6. Generate a 3x3 matrix and find the smallest value among all its elements,"
   ]
  },
  {
   "cell_type": "code",
   "execution_count": 27,
   "id": "ec37e364",
   "metadata": {},
   "outputs": [
    {
     "name": "stdout",
     "output_type": "stream",
     "text": [
      "[[ 2 10  1]\n",
      " [ 3  0  5]\n",
      " [10 10  8]]\n",
      "The min element in each column is:  0\n"
     ]
    }
   ],
   "source": [
    "array = np.random.randint(11,size=(3,3))\n",
    "print(array)\n",
    "print('The min element in each column is: ',np.min(array))"
   ]
  },
  {
   "cell_type": "markdown",
   "id": "9276dd13-1748-4879-83bf-4dd3359f46b5",
   "metadata": {},
   "source": [
    "### 7. Create a 4x4 matrix of random integers between 1 and 20 and compute the sum of all elements that are greater than 10."
   ]
  },
  {
   "cell_type": "code",
   "execution_count": 29,
   "id": "4dd634f9",
   "metadata": {},
   "outputs": [
    {
     "name": "stdout",
     "output_type": "stream",
     "text": [
      "[[18  1 14 10]\n",
      " [ 9 17  9  3]\n",
      " [ 2 15  7  8]\n",
      " [ 9 16  2 19]]\n",
      "The sum of elements in second row is:  99\n"
     ]
    }
   ],
   "source": [
    "array = np.random.randint(1,20,size=(4,4))\n",
    "print(array)\n",
    "print('The sum of elements in second row is: ',np.sum(array[array>10]))"
   ]
  },
  {
   "cell_type": "markdown",
   "id": "7c988fd2-2eb1-4998-8491-fbf51fa1c759",
   "metadata": {},
   "source": [
    "### 8. Generate a 5x5 matrix of random numbers and find the mean of the maximum values of each row."
   ]
  },
  {
   "cell_type": "code",
   "execution_count": 7,
   "id": "552af6ba",
   "metadata": {},
   "outputs": [
    {
     "name": "stdout",
     "output_type": "stream",
     "text": [
      "[[2 4 2 9 9]\n",
      " [8 4 9 3 5]\n",
      " [6 4 8 8 1]\n",
      " [9 7 7 5 1]\n",
      " [1 9 0 7 9]]\n",
      "The mean of max element in each row is:  8.8\n"
     ]
    }
   ],
   "source": [
    "array = np.random.randint(11,size=(5,5))\n",
    "print(array)\n",
    "print('The mean of max element in each row is: ',np.mean(np.max(array,axis = 1)))"
   ]
  },
  {
   "cell_type": "markdown",
   "id": "6921761d-d206-4aab-a871-fb0a39f97306",
   "metadata": {},
   "source": [
    "### 9. Create a 3x3 matrix and calculate the difference between the sum of the elements in the first row and the sum of the elements in the last row."
   ]
  },
  {
   "cell_type": "code",
   "execution_count": 9,
   "id": "989e9fcc",
   "metadata": {},
   "outputs": [
    {
     "name": "stdout",
     "output_type": "stream",
     "text": [
      "[[7 6 7]\n",
      " [0 5 4]\n",
      " [2 0 4]]\n",
      "The difference between the sum of the elements in the first row and the sum of the elements in the last row:  14\n"
     ]
    }
   ],
   "source": [
    "array = np.random.randint(11,size=(3,3))\n",
    "print(array)\n",
    "print('The difference between the sum of the elements in the first row and the sum of the elements in the last row: ',abs(np.sum(array, axis = 1)[0] - np.sum(array, axis = 1)[2]))"
   ]
  },
  {
   "cell_type": "markdown",
   "id": "f71747e0-b687-440a-a3f4-4b1b161d4aa6",
   "metadata": {},
   "source": [
    "### 10. Generate a 6x6 matrix of random integers and replace all values below the median with zero."
   ]
  },
  {
   "cell_type": "code",
   "execution_count": 20,
   "id": "6e040099-44bd-471d-8608-029459d174ec",
   "metadata": {},
   "outputs": [
    {
     "name": "stdout",
     "output_type": "stream",
     "text": [
      "[[ 4  2  3  8  6  2]\n",
      " [ 2  1  3  2  6  6]\n",
      " [ 9  2  5  0  4  6]\n",
      " [ 3  2  9  9  3  9]\n",
      " [ 6  2  1  2  8  3]\n",
      " [10  2  7  7  9  4]]\n",
      "\n",
      "The median of the array is:  4.0\n",
      "\n",
      "[[ 4  0  0  8  6  0]\n",
      " [ 0  0  0  0  6  6]\n",
      " [ 9  0  5  0  4  6]\n",
      " [ 0  0  9  9  0  9]\n",
      " [ 6  0  0  0  8  0]\n",
      " [10  0  7  7  9  4]]\n"
     ]
    }
   ],
   "source": [
    "array = np.random.randint(11,size=(6,6))\n",
    "print(array,end = '\\n\\n')\n",
    "print('The median of the array is: ',np.median(array),end = '\\n\\n')\n",
    "array[array<np.median(array)] = 0\n",
    "print(array)"
   ]
  },
  {
   "cell_type": "markdown",
   "id": "009b0000-af49-42d2-b967-ef1d4655ffbe",
   "metadata": {},
   "source": [
    "### 11. Create a 4x4 matrix and compute the sum of elements in the upper triangular part of the matrix."
   ]
  },
  {
   "cell_type": "code",
   "execution_count": 23,
   "id": "0a8f7801-39d8-47fe-aa16-e0cd1c2b996e",
   "metadata": {},
   "outputs": [
    {
     "name": "stdout",
     "output_type": "stream",
     "text": [
      "[[ 3  7  5  6]\n",
      " [ 4  7  0  9]\n",
      " [ 2  1 10  9]\n",
      " [ 1  4  0  7]]\n",
      "The median of the array is:  63\n"
     ]
    }
   ],
   "source": [
    "array = np.random.randint(11,size=(4,4))\n",
    "print(array)\n",
    "print('The median of the array is: ',np.sum(np.triu(array)))"
   ]
  },
  {
   "cell_type": "markdown",
   "id": "a9150bae-0315-4593-8174-1ff4dde12880",
   "metadata": {},
   "source": [
    "### 12. Generate a 3x4 matrix of random values and find the standard deviation of the elements in the third column."
   ]
  },
  {
   "cell_type": "code",
   "execution_count": 26,
   "id": "825a40f0-d08c-468a-acf6-e797051284e3",
   "metadata": {},
   "outputs": [
    {
     "name": "stdout",
     "output_type": "stream",
     "text": [
      "[[ 6  9  2  1]\n",
      " [ 4  5  8 10]\n",
      " [ 1  4  4 10]]\n",
      "The standard deviation of elements of 3rd column is:  2.494438257849294\n"
     ]
    }
   ],
   "source": [
    "array = np.random.randint(11,size=(3,4))\n",
    "print(array)\n",
    "print('The standard deviation of elements of 3rd column is: ',np.std(array, axis=0)[2])"
   ]
  }
 ],
 "metadata": {
  "kernelspec": {
   "display_name": "Python 3 (ipykernel)",
   "language": "python",
   "name": "python3"
  },
  "language_info": {
   "codemirror_mode": {
    "name": "ipython",
    "version": 3
   },
   "file_extension": ".py",
   "mimetype": "text/x-python",
   "name": "python",
   "nbconvert_exporter": "python",
   "pygments_lexer": "ipython3",
   "version": "3.11.4"
  },
  "widgets": {
   "application/vnd.jupyter.widget-state+json": {
    "state": {},
    "version_major": 2,
    "version_minor": 0
   }
  }
 },
 "nbformat": 4,
 "nbformat_minor": 5
}
