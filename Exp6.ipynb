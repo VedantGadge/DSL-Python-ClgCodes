{
 "cells": [
  {
   "cell_type": "markdown",
   "id": "8f76e727-88ce-4394-85e6-15e6b6463f80",
   "metadata": {},
   "source": [
    "# DSL Experiment 6\n",
    "# Vedant Gadge D115 D2-2\n",
    "# 60009230120"
   ]
  },
  {
   "cell_type": "markdown",
   "id": "a03e037e-7cba-473c-a465-0c3727940b90",
   "metadata": {},
   "source": [
    "### 1.Create a Vehicle class without any variables and methods"
   ]
  },
  {
   "cell_type": "code",
   "execution_count": 6,
   "id": "abdefe95-ec5d-4cad-b07e-68f041dfc7c5",
   "metadata": {},
   "outputs": [],
   "source": [
    "class Vehicle:\n",
    "    pass"
   ]
  },
  {
   "cell_type": "markdown",
   "id": "8f2c05ad-b61b-4f59-938a-df47f371223a",
   "metadata": {},
   "source": [
    "### 2. Create a Class with instance attributes"
   ]
  },
  {
   "cell_type": "code",
   "execution_count": 4,
   "id": "2d4ab92a-fc3d-48df-8dcc-f85f1d53bcfe",
   "metadata": {},
   "outputs": [],
   "source": [
    "class Vehicle:\n",
    "    def __init__(self , max_speed , mileage):\n",
    "        self.mileage = mileage\n",
    "        self.max_speed = max_speed"
   ]
  },
  {
   "cell_type": "markdown",
   "id": "2b4191e4-593c-4166-b5c7-b13a4cc7ec8c",
   "metadata": {},
   "source": [
    "### 3. Create a child class Bus that will inherit all of the variables and methods of the Vehicle class"
   ]
  },
  {
   "cell_type": "code",
   "execution_count": 19,
   "id": "f1cc9b59-a2e8-411f-8b28-2912b057936b",
   "metadata": {},
   "outputs": [],
   "source": [
    "class Vehicle:\n",
    "    def init (self, name, max_speed, mileage): \n",
    "        self.name = name\n",
    "        self.max_speed = max_speed \n",
    "        self.mileage = mileage\n",
    "\n",
    "class Bus(Vehicle):\n",
    "    pass"
   ]
  },
  {
   "cell_type": "markdown",
   "id": "eccab01b-e99a-4a32-9773-19f9b10a5a1c",
   "metadata": {},
   "source": [
    "### 4. Create a Bus object that will inherit all of the variables and methods of the parent Vehicle class and display it.\n",
    "### Expected Output: Vehicle Name: School Volvo Speed: 180 Mileage: 12"
   ]
  },
  {
   "cell_type": "code",
   "execution_count": 18,
   "id": "0e389eb5-8a2a-490d-b90e-e9c3f265ba5e",
   "metadata": {},
   "outputs": [
    {
     "name": "stdout",
     "output_type": "stream",
     "text": [
      "School Volvo\n",
      "180\n",
      "12\n"
     ]
    }
   ],
   "source": [
    "bus = Bus('School Volvo', 180, 12)\n",
    "print(bus.name)        \n",
    "print(bus.max_speed)   \n",
    "print(bus.mileage)     \n"
   ]
  },
  {
   "cell_type": "markdown",
   "id": "d35eb862-90f4-462a-bd7f-83b70e784859",
   "metadata": {},
   "source": [
    "### 5. Create a Bus class that inherits from the Vehicle class. \n",
    "#### Give the capacity argument of Bus.seating_capacity() a default value of 50. Use the following code for your parent Vehicle class. class Vehicle: def init (self, name, max_speed, mileage): self.name = name self.max_speed = max_speed self. mileage = mileage def seating_capacity(self, capacity): return f\"The seating capacity of a {self.name} is {capacity} passengers\""
   ]
  },
  {
   "cell_type": "code",
   "execution_count": 43,
   "id": "388efc13-28eb-4563-b809-7d42f6ae7d6a",
   "metadata": {},
   "outputs": [
    {
     "name": "stdout",
     "output_type": "stream",
     "text": [
      "The seating capacity of a School Volvo is 50 passengers\n"
     ]
    }
   ],
   "source": [
    "class Vehicle:\n",
    "    def __init__(self, name, max_speed, mileage):  # Ensure '__init__' is correctly defined\n",
    "        self.name = name\n",
    "        self.max_speed = max_speed \n",
    "        self.mileage = mileage\n",
    "\n",
    "    def seating_capacity(self, capacity):\n",
    "        return f\"The seating capacity of a {self.name} is {capacity} passengers\"\n",
    "\n",
    "class Bus(Vehicle):\n",
    "    def seating_capacity(self, capacity=50):\n",
    "        return super().seating_capacity(capacity)  # Call the parent method with a default capacity\n",
    "\n",
    "print(bus.seating_capacity())  \n"
   ]
  },
  {
   "cell_type": "markdown",
   "id": "6084e9d2-1d30-4a6e-9d09-b3272fba7f27",
   "metadata": {},
   "source": [
    "### 6. Class Inheritance\n",
    "#### Given: Create a Bus child class that inherits from the Vehicle class. The default fare charge of any vehicle is seating capacity * 100. If Vehicle is Bus instance, we need to add an extra 10% on full fare as a maintenance charge. So total fare for bus instance will become the final amount = total fare + 10% of the total fare."
   ]
  },
  {
   "cell_type": "code",
   "execution_count": 50,
   "id": "f3e14361-1143-41eb-a9e8-6cff6df40e72",
   "metadata": {},
   "outputs": [
    {
     "name": "stdout",
     "output_type": "stream",
     "text": [
      "Total bus fare is 5500.0\n"
     ]
    }
   ],
   "source": [
    "class Vehicle: \n",
    "    def __init__(self, name, mileage, capacity):  \n",
    "        self.name = name \n",
    "        self.mileage = mileage \n",
    "        self.capacity = capacity \n",
    "\n",
    "    def fare(self): \n",
    "        return self.capacity * 100  \n",
    "\n",
    "class Bus(Vehicle): \n",
    "    def fare(self):\n",
    "        return self.capacity * 100 + 0.1 * (self.capacity * 100)  # 10% extra on fare\n",
    "\n",
    "print(f'Total bus fare is {bus.fare()}')  \n"
   ]
  },
  {
   "cell_type": "markdown",
   "id": "0a50a499-913f-42fe-869a-a95cad29b6a5",
   "metadata": {},
   "source": [
    "### 7. Check type of an object\n",
    "#### Write a program to determine which class a given Bus object belongs to."
   ]
  },
  {
   "cell_type": "code",
   "execution_count": 52,
   "id": "b4c5aac0-500a-45d4-9994-4284be504e94",
   "metadata": {},
   "outputs": [
    {
     "name": "stdout",
     "output_type": "stream",
     "text": [
      "The object is of type: Bus\n"
     ]
    }
   ],
   "source": [
    "print(f'The object is of type: {type(bus).__name__}')"
   ]
  },
  {
   "cell_type": "markdown",
   "id": "df3daea0-1b89-4dc7-a366-921a78941151",
   "metadata": {},
   "source": [
    "### 8. Determine if School_bus is also an instance of the Vehicle class"
   ]
  },
  {
   "cell_type": "code",
   "execution_count": 53,
   "id": "cc09308c-b87f-4b82-bc94-0151cb215932",
   "metadata": {},
   "outputs": [
    {
     "name": "stdout",
     "output_type": "stream",
     "text": [
      "The object is of type: Bus\n"
     ]
    }
   ],
   "source": [
    "School_bus = Bus(\"School Volvo\", 12, 50)\n",
    "print(f'The object is of type: {type(School_bus).__name__}')"
   ]
  },
  {
   "cell_type": "markdown",
   "id": "1c1f7a84-2301-4df8-9159-1908c4b5da2f",
   "metadata": {},
   "source": [
    "### 9. Determine if School_bus is Sub class of Vehicle Class"
   ]
  },
  {
   "cell_type": "code",
   "execution_count": 56,
   "id": "e5685b8a-1bfb-4e5c-9a63-f17701271b75",
   "metadata": {},
   "outputs": [
    {
     "name": "stdout",
     "output_type": "stream",
     "text": [
      "Bus is a subclass of Vehicle.\n"
     ]
    }
   ],
   "source": [
    "if issubclass(Bus, Vehicle):\n",
    "    print(\"Bus is a subclass of Vehicle.\")\n",
    "else:\n",
    "    print(\"Bus is NOT a subclass of Vehicle.\")"
   ]
  },
  {
   "cell_type": "markdown",
   "id": "7f803dd5-2b32-49ed-a2d4-caa39ec6538b",
   "metadata": {},
   "source": [
    "### 10. Create a child class for Bus Class named Mini bus inheriting Bus class and price attribute and Print Price Method (Multilevel Inheritance)"
   ]
  },
  {
   "cell_type": "code",
   "execution_count": 5,
   "id": "955cd7ad-d222-46ce-bb48-f06f0af7936f",
   "metadata": {},
   "outputs": [
    {
     "name": "stdout",
     "output_type": "stream",
     "text": [
      "Total Bus fare is: 2500\n",
      "The price of the Bus is: 200000\n"
     ]
    }
   ],
   "source": [
    "class Vehicle:\n",
    " def __init__(self, name, mileage, capacity):\n",
    "     self.name = name\n",
    "     self.mileage = mileage\n",
    "     self.capacity = capacity\n",
    "\n",
    " def fare(self):\n",
    "     return self.capacity * 100\n",
    "class Bus(Vehicle):\n",
    " def __init__(self, name, mileage, capacity, price):\n",
    "     super().__init__(name, mileage, capacity)\n",
    "     self.price = price\n",
    " def print_price(self):\n",
    "     print(\"The price of the Bus is:\", self.price)\n",
    "class MiniBus(Bus):\n",
    " def __init__(self, name, mileage, capacity, price):\n",
    "     super().__init__(name, mileage, capacity, price)\n",
    "mini_bus = MiniBus(\"Mini Bus\", 10, 25, 200000)\n",
    "print(\"Total Bus fare is:\", mini_bus.fare())\n",
    "mini_bus.print_price()"
   ]
  },
  {
   "cell_type": "markdown",
   "id": "54e8c3b4-bf7a-493b-8c27-ae5db03fc129",
   "metadata": {},
   "source": [
    "### 11. Create a car class inheriting Vehicle class and add type and Print attribute and display Type method method for the same"
   ]
  },
  {
   "cell_type": "code",
   "execution_count": 10,
   "id": "841918c4-9de8-46fb-893b-adf4511f294a",
   "metadata": {},
   "outputs": [
    {
     "name": "stdout",
     "output_type": "stream",
     "text": [
      "Total Car fare is: 500000\n",
      "Vehicle Type: Sports Car\n"
     ]
    }
   ],
   "source": [
    "class Vehicle:\n",
    " def __init__(self, name, mileage, capacity):\n",
    "     self.name = name\n",
    "     self.mileage = mileage\n",
    "     self.capacity = capacity\n",
    " def fare(self):\n",
    "     return self.capacity * 100000\n",
    "class Car(Vehicle):\n",
    " def __init__(self, name, mileage, capacity, car_type):\n",
    "         super().__init__(name, mileage, capacity)\n",
    "         self.car_type = car_type\n",
    " def display_type(self):\n",
    "     print(f\"Vehicle Type: {self.car_type}\")\n",
    "my_car = Car(\"Porsche 911 GT 3RS\", 15, 5, \"Sports Car\")\n",
    "print(\"Total Car fare is:\", my_car.fare())\n",
    "my_car.display_type()"
   ]
  },
  {
   "cell_type": "markdown",
   "id": "dc11fe28-de0e-4757-9e87-42c43463f3d0",
   "metadata": {},
   "source": [
    "### 12."
   ]
  },
  {
   "cell_type": "code",
   "execution_count": 12,
   "id": "3426884f-dbb4-468b-84c4-13d324b9488f",
   "metadata": {},
   "outputs": [
    {
     "name": "stdout",
     "output_type": "stream",
     "text": [
      "It's a square\n",
      "Area of square is 400\n",
      "It's a circle\n",
      "Area of circle is 314.0\n"
     ]
    }
   ],
   "source": [
    "class Shape:\n",
    " def __str__(self):\n",
    "     return \"It is a shape!\"\n",
    " def fact(self):\n",
    "     return \"Shape has area and perimeter\"\n",
    "class Square(Shape):\n",
    " def __str__(self):\n",
    "     return \"It's a square\"\n",
    " def fact(self):\n",
    "     return \"A square has four equal sides\"\n",
    " def area(self, s):\n",
    "     return f\"Area of square is {s**2}\"\n",
    "class Circle(Shape):\n",
    " def __str__(self):\n",
    "     return \"It's a circle\"\n",
    " def area(self, r):\n",
    "     return f\"Area of circle is {3.14 * r**2}\"\n",
    "sq = Square()\n",
    "print(sq)\n",
    "print(sq.area(20))\n",
    "cr = Circle()\n",
    "print(cr)\n",
    "print(cr.area(10))"
   ]
  },
  {
   "cell_type": "markdown",
   "id": "0c929d22-89db-4ba7-bf4c-1fc0b6efefcc",
   "metadata": {},
   "source": [
    "### 13."
   ]
  },
  {
   "cell_type": "code",
   "execution_count": 14,
   "id": "759a9345-4350-428c-b449-8e1e80d97e0c",
   "metadata": {},
   "outputs": [
    {
     "name": "stdout",
     "output_type": "stream",
     "text": [
      "Displaying the vehicle information.\n",
      "The maximum speed of the truck is 260 km/h.\n",
      "The truck has 8 gears.\n",
      "Displaying the vehicle information.\n",
      "The maximum speed of the car is 220 km/h.\n",
      "The car has 6 gears.\n"
     ]
    }
   ],
   "source": [
    "class Vehicle:\n",
    " def speed(self):\n",
    "     print(\"The maximum speed of the vehicle is 160 km/h.\")\n",
    " def change_gear(self):\n",
    "     print(\"The vehicle has 5 gears.\")\n",
    " def show(self):\n",
    "     print(\"Displaying the vehicle information.\")\n",
    "class Car(Vehicle):\n",
    " def speed(self):\n",
    "     print(\"The maximum speed of the car is 220 km/h.\")\n",
    " def change_gear(self):\n",
    "     print(\"The car has 6 gears.\")\n",
    "class Truck(Vehicle):\n",
    " def speed(self):\n",
    "     print(\"The maximum speed of the truck is 260 km/h.\")\n",
    " def change_gear(self):\n",
    "     print(\"The truck has 8 gears.\")\n",
    "truck = Truck()\n",
    "truck.show()\n",
    "truck.speed()\n",
    "truck.change_gear()\n",
    "car = Car()\n",
    "car.show()\n",
    "car.speed()\n",
    "car.change_gear()"
   ]
  },
  {
   "cell_type": "markdown",
   "id": "7552c473-2b2b-4adb-845e-2cc76066ffb0",
   "metadata": {},
   "source": [
    "### 14. Write a program in python to demonstrate how method overloading is achieved. Create a function to perform addition operation. If 2 no’s are given it should perform addition of 2 no’s otherwise it should add 3 nos."
   ]
  },
  {
   "cell_type": "code",
   "execution_count": 16,
   "id": "2776d55c-b5ff-44f2-9d3f-5c56a7952f63",
   "metadata": {},
   "outputs": [
    {
     "name": "stdout",
     "output_type": "stream",
     "text": [
      "Sum of two numbers: 15\n",
      "Sum of three numbers: 35\n"
     ]
    }
   ],
   "source": [
    "class Addition:\n",
    " def add(self, a, b, c=0):\n",
    "     return a + b + c\n",
    "obj = Addition()\n",
    "print(\"Sum of two numbers:\", obj.add(5, 10))\n",
    "print(\"Sum of three numbers:\", obj.add(5, 10, 20))"
   ]
  },
  {
   "cell_type": "markdown",
   "id": "4163d822-46b7-4ff7-97bb-2df44547edbd",
   "metadata": {},
   "source": [
    "### 15. Write a program in python to perform method overloading. Create a function to calculate area of given shape. If 1 side is given calculate area of square, if Length and breadth is given calculate the area of Rectangle."
   ]
  },
  {
   "cell_type": "code",
   "execution_count": 19,
   "id": "46f4f5e6-83d8-427d-9343-5feed8255cbe",
   "metadata": {},
   "outputs": [
    {
     "name": "stdout",
     "output_type": "stream",
     "text": [
      "Area of square: 225\n",
      "Area of rectangle: 150\n"
     ]
    }
   ],
   "source": [
    "class Shape:\n",
    " def area(self, side, breadth=0):\n",
    "     if breadth == 0:\n",
    "         return side * side\n",
    "     else:\n",
    "         return side * breadth\n",
    "shape = Shape()\n",
    "print(\"Area of square:\", shape.area(15))\n",
    "print(\"Area of rectangle:\", shape.area(10, 15))"
   ]
  },
  {
   "cell_type": "markdown",
   "id": "15da5aa9-9cab-4efd-b8d4-bcb9ac3084d5",
   "metadata": {},
   "source": [
    "### 16. Write a program to Implement Abstract class using Following problem statement\n",
    "#### The Employee class represents an employee, either full-time or hourly. the Employee class should be an abstract class because there’re only full-time employees and hourly employees, no general employees exist. The Employee class should have a property that returns the full name of an employee. In addition, it should have a method that calculates salary. The method for calculating salary should be an abstract method. The Full_time_Employee class inherits from the Employee class. It’ll provide the implementation for the get_salary () method. Since full-time employees get fixed salaries, you can initialize the salary in the constructor of the class. The Hourly Employee also inherits from the Employee class. However, hourly employees get paid by working hours and their rates. Therefore, you can initialize this information in the constructor of the class. To calculate the salary for the hourly employees, you multiply the working hours and rates."
   ]
  },
  {
   "cell_type": "code",
   "execution_count": 25,
   "id": "8987e193-41e7-4d21-bc22-fcd695e72c26",
   "metadata": {},
   "outputs": [
    {
     "name": "stdout",
     "output_type": "stream",
     "text": [
      "Full-time employee Tony Stark salary: 500000\n",
      "Hourly employee Steve Rogghers salary: 2400\n"
     ]
    }
   ],
   "source": [
    "from abc import ABC, abstractmethod\n",
    "\n",
    "class Employee(ABC):\n",
    "    def __init__(self, first_name, last_name):\n",
    "        self.first_name = first_name\n",
    "        self.last_name = last_name\n",
    "    \n",
    "    @property\n",
    "    def full_name(self):\n",
    "        return f\"{self.first_name} {self.last_name}\"\n",
    "    \n",
    "    @abstractmethod\n",
    "    def get_salary(self):\n",
    "        pass\n",
    "\n",
    "class FullTimeEmployee(Employee):\n",
    "    def __init__(self, first_name, last_name, salary):\n",
    "        super().__init__(first_name, last_name)\n",
    "        self.salary = salary\n",
    "    \n",
    "    def get_salary(self):\n",
    "        return self.salary\n",
    "\n",
    "class HourlyEmployee(Employee):\n",
    "    def __init__(self, first_name, last_name, hourly_rate, hours_worked):\n",
    "        super().__init__(first_name, last_name)\n",
    "        self.hourly_rate = hourly_rate\n",
    "        self.hours_worked = hours_worked\n",
    "    \n",
    "    def get_salary(self):\n",
    "        return self.hourly_rate * self.hours_worked\n",
    "\n",
    "full_time_emp = FullTimeEmployee(\"Tony\", \"Stark\", 500000)\n",
    "hourly_emp = HourlyEmployee(\"Steve\", \"Rogghers\", 20, 120)\n",
    "\n",
    "# Printing the salaries\n",
    "print(f\"Full-time employee {full_time_emp.full_name} salary: {full_time_emp.get_salary()}\")\n",
    "print(f\"Hourly employee {hourly_emp.full_name} salary: {hourly_emp.get_salary()}\")\n"
   ]
  },
  {
   "cell_type": "markdown",
   "id": "78632455-e2c2-424e-bdcc-bdfe76a72719",
   "metadata": {},
   "source": [
    "### 17. Write a Python Program to overload + operator to add Point (X1, Y1) and Point (X2, Y2)"
   ]
  },
  {
   "cell_type": "code",
   "execution_count": 27,
   "id": "43734f28-c31a-463c-8b17-b4e64921691d",
   "metadata": {},
   "outputs": [
    {
     "name": "stdout",
     "output_type": "stream",
     "text": [
      "Result of addition: (5, 11)\n"
     ]
    }
   ],
   "source": [
    "class Point:\n",
    " def __init__(self, x, y):\n",
    "     self.x = x\n",
    "     self.y = y\n",
    " def __add__(self, other):\n",
    "     return Point(self.x + other.x, self.y + other.y)\n",
    " def __str__(self):\n",
    "     return f\"({self.x}, {self.y})\"\n",
    "point1 = Point(1, 2)\n",
    "point2 = Point(4, 9)\n",
    "result = point1 + point2\n",
    "print(\"Result of addition:\", result)"
   ]
  },
  {
   "cell_type": "markdown",
   "id": "df4dc984-7481-4b54-93e6-a4e41a7ea384",
   "metadata": {},
   "source": [
    "### 18. Write a Python Program to perform division of Two Numbers, take both the nos from users from user, use TRY, EXCEPT and FINALLY block to raise an Exception when Diving Number by Zero."
   ]
  },
  {
   "cell_type": "code",
   "execution_count": 28,
   "id": "4711f18f-b097-4777-b93e-15232d9460a9",
   "metadata": {},
   "outputs": [
    {
     "name": "stdin",
     "output_type": "stream",
     "text": [
      "Enter the first number:  10\n",
      "Enter the second number:  0\n"
     ]
    },
    {
     "name": "stdout",
     "output_type": "stream",
     "text": [
      "Error: Cannot divide by zero.\n",
      "Execution completed.\n"
     ]
    }
   ],
   "source": [
    "def divide_nos():\n",
    " try:\n",
    "     num1 = float(input(\"Enter the first number: \"))\n",
    "     num2 = float(input(\"Enter the second number: \"))\n",
    "     result = num1 / num2\n",
    " except ZeroDivisionError:\n",
    "     print(\"Error: Cannot divide by zero.\")\n",
    " finally:\n",
    "     print(\"Execution completed.\")\n",
    "divide_nos()"
   ]
  },
  {
   "cell_type": "markdown",
   "id": "b4a9b3a8-a341-42f4-ac77-197059160dd0",
   "metadata": {},
   "source": [
    "### 19. Write a program that creates two threads: one thread prints the even while the other prints the odd numbers. Display both once the threads have finished."
   ]
  },
  {
   "cell_type": "code",
   "execution_count": 29,
   "id": "0402cffc-3121-49a9-bd53-023f0777f035",
   "metadata": {},
   "outputs": [
    {
     "name": "stdout",
     "output_type": "stream",
     "text": [
      "Even: 0\n",
      "Even: 2\n",
      "Even: 4\n",
      "Even: 6\n",
      "Even: 8\n",
      "Even: 10\n",
      "Odd: 1\n",
      "Odd: 3\n",
      "Odd: 5\n",
      "Odd: 7\n",
      "Odd: 9\n",
      "Both threads have finished execution.\n"
     ]
    }
   ],
   "source": [
    "import threading\n",
    "def print_even_numbers():\n",
    " for i in range(0, 11, 2):\n",
    "     print(f\"Even: {i}\")\n",
    "def print_odd_numbers():\n",
    " for i in range(1, 11, 2):\n",
    "     print(f\"Odd: {i}\")\n",
    "even_thread = threading.Thread(target=print_even_numbers)\n",
    "odd_thread = threading.Thread(target=print_odd_numbers)\n",
    "even_thread.start()\n",
    "odd_thread.start()\n",
    "even_thread.join()\n",
    "odd_thread.join()\n",
    "print(\"Both threads have finished execution.\")\n"
   ]
  },
  {
   "cell_type": "markdown",
   "id": "4d910cb7-ecee-43f2-9ba2-d2b3a0b2477b",
   "metadata": {},
   "source": [
    "### 20. Create a program that calculates the factorial of two different numbers concurrently using two threads. Print the results of both calculations once both threads are done."
   ]
  },
  {
   "cell_type": "code",
   "execution_count": 32,
   "id": "b8e083e6-8a3c-4ec4-aa8f-dec7f89eadd3",
   "metadata": {},
   "outputs": [
    {
     "name": "stdout",
     "output_type": "stream",
     "text": [
      "Factorial of 5 is 120\n",
      "Factorial of 9 is 362880\n"
     ]
    }
   ],
   "source": [
    "import threading\n",
    "def factorial(n, result, idx):\n",
    " fact = 1\n",
    " for i in range(1, n + 1):\n",
    "     fact *= i\n",
    " result[idx] = fact\n",
    "n1 = 5\n",
    "n2 = 9\n",
    "results = [0, 0]\n",
    "thread1 = threading.Thread(target=factorial, args=(n1, results, 0))\n",
    "thread2 = threading.Thread(target=factorial, args=(n2, results, 1))\n",
    "thread1.start()\n",
    "thread2.start()\n",
    "thread1.join()\n",
    "thread2.join()\n",
    "print(f\"Factorial of {n1} is {results[0]}\")\n",
    "print(f\"Factorial of {n2} is {results[1]}\")"
   ]
  }
 ],
 "metadata": {
  "kernelspec": {
   "display_name": "Python 3 (ipykernel)",
   "language": "python",
   "name": "python3"
  },
  "language_info": {
   "codemirror_mode": {
    "name": "ipython",
    "version": 3
   },
   "file_extension": ".py",
   "mimetype": "text/x-python",
   "name": "python",
   "nbconvert_exporter": "python",
   "pygments_lexer": "ipython3",
   "version": "3.11.4"
  },
  "widgets": {
   "application/vnd.jupyter.widget-state+json": {
    "state": {},
    "version_major": 2,
    "version_minor": 0
   }
  }
 },
 "nbformat": 4,
 "nbformat_minor": 5
}
