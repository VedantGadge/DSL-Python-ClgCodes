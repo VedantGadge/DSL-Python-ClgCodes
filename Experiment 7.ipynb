{
 "cells": [
  {
   "cell_type": "markdown",
   "id": "6e040988",
   "metadata": {},
   "source": [
    "# Experiment 7\n",
    "# Vedant Gadge D115 60009230120 D2-2"
   ]
  },
  {
   "cell_type": "code",
   "execution_count": 1,
   "id": "c8d87a8a",
   "metadata": {},
   "outputs": [],
   "source": [
    "import numpy as np"
   ]
  },
  {
   "cell_type": "code",
   "execution_count": 22,
   "id": "44d51d57",
   "metadata": {},
   "outputs": [
    {
     "name": "stdout",
     "output_type": "stream",
     "text": [
      "[[ 8  3  6]\n",
      " [ 4  3  3]\n",
      " [ 5  6 10]]\n",
      "The sum is:  48\n"
     ]
    }
   ],
   "source": [
    "array = np.random.randint(1,11,size=(3,3))\n",
    "print(array)\n",
    "print('The sum is: ',np.sum(array))"
   ]
  },
  {
   "cell_type": "code",
   "execution_count": 10,
   "id": "0cbd0547",
   "metadata": {},
   "outputs": [
    {
     "name": "stdout",
     "output_type": "stream",
     "text": [
      "[[ 9 10  0  2]\n",
      " [ 1  5  1  6]\n",
      " [ 3  9  8 10]\n",
      " [ 7  8  7  3]]\n",
      "The average is:  5.5625\n"
     ]
    }
   ],
   "source": [
    "array = np.random.randint(11,size=(4,4))\n",
    "print(array)\n",
    "print('The average is: ',np.mean(array))"
   ]
  },
  {
   "cell_type": "code",
   "execution_count": 16,
   "id": "04f8b01e",
   "metadata": {},
   "outputs": [
    {
     "name": "stdout",
     "output_type": "stream",
     "text": [
      "[[1 2 5]\n",
      " [1 4 8]]\n",
      "The sum of elements in second row is:  13\n"
     ]
    }
   ],
   "source": [
    "array = np.random.randint(11,size=(2,3))\n",
    "print(array)\n",
    "print('The sum of elements in second row is: ',np.sum(array,axis = 1)[1])  \n",
    "#np.sum(array,axis = 1) returns a new array which consists the sum of each row , we want just the second row so we use [1]"
   ]
  },
  {
   "cell_type": "code",
   "execution_count": 21,
   "id": "3db47f22",
   "metadata": {},
   "outputs": [
    {
     "name": "stdout",
     "output_type": "stream",
     "text": [
      "[[ 8  4  2  6 10]\n",
      " [10  0  9  1  4]\n",
      " [ 2  8  1  7  5]\n",
      " [10  5  9  0  1]\n",
      " [10  3  9  6  6]]\n",
      "The max element in each column is:  [10  8  9  7 10]\n"
     ]
    }
   ],
   "source": [
    "array = np.random.randint(11,size=(5,5))\n",
    "print(array)\n",
    "print('The max element in each column is: ',np.max(array,axis = 0))"
   ]
  },
  {
   "cell_type": "code",
   "execution_count": 25,
   "id": "61411ba7",
   "metadata": {},
   "outputs": [
    {
     "name": "stdout",
     "output_type": "stream",
     "text": [
      "[[7 4 4 9]\n",
      " [7 8 9 6]\n",
      " [6 8 4 1]\n",
      " [0 3 2 6]]\n",
      "The sum of elements in the diagonal is:  25\n"
     ]
    }
   ],
   "source": [
    "array = np.random.randint(11,size=(4,4))\n",
    "print(array)\n",
    "print('The sum of elements in the diagonal is: ',np.matrix(array).diagonal().sum())"
   ]
  },
  {
   "cell_type": "code",
   "execution_count": 27,
   "id": "ec37e364",
   "metadata": {},
   "outputs": [
    {
     "name": "stdout",
     "output_type": "stream",
     "text": [
      "[[ 2 10  1]\n",
      " [ 3  0  5]\n",
      " [10 10  8]]\n",
      "The min element in each column is:  0\n"
     ]
    }
   ],
   "source": [
    "array = np.random.randint(11,size=(3,3))\n",
    "print(array)\n",
    "print('The min element in each column is: ',np.min(array))"
   ]
  },
  {
   "cell_type": "code",
   "execution_count": 29,
   "id": "4dd634f9",
   "metadata": {},
   "outputs": [
    {
     "name": "stdout",
     "output_type": "stream",
     "text": [
      "[[18  1 14 10]\n",
      " [ 9 17  9  3]\n",
      " [ 2 15  7  8]\n",
      " [ 9 16  2 19]]\n",
      "The sum of elements in second row is:  99\n"
     ]
    }
   ],
   "source": [
    "array = np.random.randint(1,20,size=(4,4))\n",
    "print(array)\n",
    "print('The sum of elements in second row is: ',np.sum(array[array>10]))"
   ]
  },
  {
   "cell_type": "code",
   "execution_count": 33,
   "id": "552af6ba",
   "metadata": {},
   "outputs": [
    {
     "name": "stdout",
     "output_type": "stream",
     "text": [
      "[[ 8  8  6  6  8]\n",
      " [ 8  2 10  5  0]\n",
      " [ 0  0 10  9  4]\n",
      " [10  0  9  7  4]\n",
      " [ 0  2  8  7  5]]\n",
      "The mean of max element in each row is:  9.2\n"
     ]
    }
   ],
   "source": [
    "array = np.random.randint(11,size=(5,5))\n",
    "print(array)\n",
    "print('The mean of max element in each row is: ',np.mean(np.max(array,axis = 1)))"
   ]
  },
  {
   "cell_type": "code",
   "execution_count": null,
   "id": "989e9fcc",
   "metadata": {},
   "outputs": [],
   "source": []
  }
 ],
 "metadata": {
  "kernelspec": {
   "display_name": "Python 3",
   "language": "python",
   "name": "python3"
  },
  "language_info": {
   "codemirror_mode": {
    "name": "ipython",
    "version": 3
   },
   "file_extension": ".py",
   "mimetype": "text/x-python",
   "name": "python",
   "nbconvert_exporter": "python",
   "pygments_lexer": "ipython3",
   "version": "3.8.8"
  }
 },
 "nbformat": 4,
 "nbformat_minor": 5
}
