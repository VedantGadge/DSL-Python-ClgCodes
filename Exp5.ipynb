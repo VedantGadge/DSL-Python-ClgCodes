{
 "cells": [
  {
   "cell_type": "markdown",
   "id": "4328c4d0-d4a0-4677-8c0f-1e4c16bff374",
   "metadata": {},
   "source": [
    "# Vedant Gadge D115 60009230120\n",
    "# DSL Experiment No. 5"
   ]
  },
  {
   "cell_type": "markdown",
   "id": "9deb1da1-43db-4530-8616-2a8e52c9533c",
   "metadata": {},
   "source": [
    "### 1. Write a function to extract all unique words from a text while ignoring case and punctuation and return the result as a sorted list.\n",
    "### Input: \"Hello world! Welcome to the world of Data Science.\" Expected Output: ['data', 'hello', 'of', 'science', 'the', 'to','welcome', 'world']"
   ]
  },
  {
   "cell_type": "code",
   "execution_count": 2,
   "id": "b545ecd0-cd6b-46d6-b6d5-0ca95c300786",
   "metadata": {
    "scrolled": true
   },
   "outputs": [
    {
     "name": "stdout",
     "output_type": "stream",
     "text": [
      "['data', 'hello', 'of', 'science', 'the', 'to', 'welcome', 'world']\n"
     ]
    }
   ],
   "source": [
    "import re\n",
    "\n",
    "s = 'Hello world! Welcome to the world of Data Science.'\n",
    "res = sorted(list(set(re.findall(r'\\w+',s.lower()))))\n",
    "print(res)"
   ]
  },
  {
   "cell_type": "markdown",
   "id": "2d2f5350-1b79-4863-809a-8b4bb3c9679a",
   "metadata": {},
   "source": [
    "### 2. Define a function to identify and count the number of distinct named entities (e.g. names of people, places, organizations) using regular expressions in a text.\n",
    "### Input: \"Barack Obama was born in Hawaii. Google is a major tech company.\" Expected Output: {'Barack Obama': 1, 'Hawaii': 1, 'Google': 1}"
   ]
  },
  {
   "cell_type": "code",
   "execution_count": 16,
   "id": "ea629aff-4ffa-4ba0-859f-136aa50e039e",
   "metadata": {
    "scrolled": true
   },
   "outputs": [
    {
     "name": "stdout",
     "output_type": "stream",
     "text": [
      "{'Barack Obama': 1, 'Hawaii': 1, 'Google': 1}\n"
     ]
    }
   ],
   "source": [
    "def extract(s):\n",
    "    word = re.findall(r'\\b[A-Z][a-z]+\\s[A-Z][a-z]+\\b|\\b[A-Z][a-z]+\\b',s)\n",
    "    count = {}\n",
    "    for key in word:\n",
    "        count[key] = word.count(key)\n",
    "    print(count)\n",
    "\n",
    "extract('Barack Obama was born in Hawaii. Google is a major tech company.')"
   ]
  },
  {
   "cell_type": "markdown",
   "id": "48c304b8-eef9-4604-88a9-9dfbbccd2ffd",
   "metadata": {},
   "source": [
    "### 3. Create a function to extract and normalize all dates from a text, converting them into a standard YYYY-MM-DD format.\n",
    "### Input: \"The event is scheduled for 12/31/2024 and the deadline is 01-15-2024.\" Expected Output: ['2024-12-31', '2024-01-15']"
   ]
  },
  {
   "cell_type": "code",
   "execution_count": 14,
   "id": "c7a07641-66d8-45f7-be09-ea5e8bc24fc1",
   "metadata": {
    "scrolled": true
   },
   "outputs": [
    {
     "name": "stdout",
     "output_type": "stream",
     "text": [
      "The event is scheduled for 2024-12-31 and the deadline is 2024-01-15.\n"
     ]
    }
   ],
   "source": [
    "def extract(s):\n",
    "    datetext = re.sub(r'([0-9]{2})[\\/\\-]([0-9]{2})[\\/\\-]([0-9]{4})', r'\\3-\\1-\\2', s)\n",
    "    print(datetext)\n",
    "\n",
    "extract('The event is scheduled for 12/31/2024 and the deadline is 01-15-2024.')"
   ]
  },
  {
   "cell_type": "markdown",
   "id": "1fb3ff88-b998-4500-829b-82b8cad51d6e",
   "metadata": {
    "scrolled": true
   },
   "source": [
    "### 4. Write a function to identify and extract key-value pairs from a structured textformat (e.g., \"key1: value1; key2: value2\") and return them as a dictionary.\n",
    "### Input: \"name: John Doe; age: 30; profession: Data Scientist\" Expected Output: {'name': 'John Doe', 'age': '30', 'profession':'Data Scientist'}"
   ]
  },
  {
   "cell_type": "code",
   "execution_count": 42,
   "id": "d2a604fd-2a1d-45b2-b0b2-4dd6cc05d5ae",
   "metadata": {
    "scrolled": true
   },
   "outputs": [
    {
     "name": "stdout",
     "output_type": "stream",
     "text": [
      "{'name': 'John Doe', 'age': '30', 'profession': 'Data Scientist'}\n"
     ]
    }
   ],
   "source": [
    "def extract(s):\n",
    "    pairs = re.findall(r'(\\w+)\\s*:\\s*([^;]+)',s) # findall seperates the key n value by using the capturing two groups by '()' in the regex pattern\n",
    "    matches = {}\n",
    "    for key,value in pairs:\n",
    "        matches[key.strip()] = value.strip()\n",
    "    print(matches)\n",
    "\n",
    "extract('name: John Doe; age: 30; profession: Data Scientist')"
   ]
  },
  {
   "cell_type": "markdown",
   "id": "be44c760-4816-42e0-b6cf-008bd759e4d2",
   "metadata": {},
   "source": [
    "### 5. Define a function to extract all phone numbers from a text and format them in the (XXX) XXX-XXXXpattern, regardless oftheir initial format.\n",
    "### Input: \"Contact me at 1234567890 or 987-654-3210.\" Expected Output: ['(123) 456-7890', '(987) 654-3210']"
   ]
  },
  {
   "cell_type": "code",
   "execution_count": 44,
   "id": "01139431-80f2-43e7-b5e4-b98db1ee5ce5",
   "metadata": {},
   "outputs": [
    {
     "name": "stdout",
     "output_type": "stream",
     "text": [
      "Contact me at (123) 456-7890 or (987) 654-3210.\n"
     ]
    }
   ],
   "source": [
    "def extract(s):\n",
    "    s = re.sub(r'([0-9]{3})(?:[^\\d]*)([0-9]{3})(?:[^\\d]*)([0-9]{4})',r'(\\1) \\2-\\3',s) \n",
    "    # [^\\d] matches any character that is not a digit.\n",
    "    # Non capturing grp(?:...) is used to ignore stuff when referencing the grps later on like in r'(\\1) \\2-\\3 \n",
    "    print(s)\n",
    "\n",
    "extract('Contact me at 1234567890 or 987-654-3210.')  "
   ]
  },
  {
   "cell_type": "markdown",
   "id": "42d58fd5-7bc9-4d41-aae2-6689a86f9cd1",
   "metadata": {},
   "source": [
    "### 6. Create a function that detects and extracts all currency amounts from a text and converts them to a standardized numeric format (e.g., \"\\$ 1,234.56\" to 1234.56).\n",
    "### Input: \"The price is $ 1,234.56 and $789.00 for the additional items.\" Expected Output: [1234.56, 789.00]"
   ]
  },
  {
   "cell_type": "code",
   "execution_count": 10,
   "id": "8ee70b48-cf2b-4659-8ced-38a5ca78a2ab",
   "metadata": {},
   "outputs": [
    {
     "name": "stdout",
     "output_type": "stream",
     "text": [
      "The price is 1234.56 and 789.00 for the additional items.\n"
     ]
    }
   ],
   "source": [
    "import re\n",
    "def extract(s):\n",
    "    s = re.sub(r'[$|,]',r'',s)\n",
    "    print(s)\n",
    "\n",
    "extract('The price is $1,234.56 and $789.00 for the additional items.')"
   ]
  },
  {
   "cell_type": "markdown",
   "id": "2e05469a-be92-4edd-b5aa-03b102794eb2",
   "metadata": {},
   "source": [
    "### 7. Write a function to identify and extract all instances of email addresses that are part of specific domains(e.g., @example.com) from a given text.\n",
    "\n",
    "### Input: \"Please contact us at support@example.com orsales@otherdomain.com.\" Expected Output: ['support@example.com']"
   ]
  },
  {
   "cell_type": "code",
   "execution_count": 11,
   "id": "5cbee3b4-d485-49bc-af76-e67a85a301ea",
   "metadata": {
    "scrolled": true
   },
   "outputs": [
    {
     "name": "stdout",
     "output_type": "stream",
     "text": [
      "['support@example.com', 'orsales@otherdomain.com']\n"
     ]
    }
   ],
   "source": [
    "def extract(s):\n",
    "    emails = re.findall(r'[a-zA-Z0-9._%+-]+@[a-zA-Z0-9.-]+\\.[A-Za-z]{2,}',s)\n",
    "    print(emails)\n",
    "\n",
    "extract('Please contact us at support@example.com orsales@otherdomain.com.')"
   ]
  },
  {
   "cell_type": "markdown",
   "id": "d7d75aa9-6405-426b-86ab-99299231b35e",
   "metadata": {},
   "source": [
    "### 8. Define a function that uses regular expressions to detect and extract complex patterns such as ISBN numbers from a text, ensuring correct formatting.\n",
    "\n",
    "### Input: \"The books have ISBN numbers like 978-3-16-148410-0 and 978-0-306-40615-7.\" Expected Output: ['978-3-16-148410-0', '978-0-306-40615-7']"
   ]
  },
  {
   "cell_type": "code",
   "execution_count": 13,
   "id": "ded71c2f-6d85-4f45-a09a-6deb271a548f",
   "metadata": {},
   "outputs": [
    {
     "name": "stdout",
     "output_type": "stream",
     "text": [
      "['978-3-16-148410-0', '978-0-306-40615-7']\n"
     ]
    }
   ],
   "source": [
    "def extract(s):\n",
    "    isbn = re.findall(r\"[0-9]{3}\\-[0-9]{1}\\-[0-9]{2,3}\\-[0-9]{5,6}\\-[0-9]{1}\",s)\n",
    "    print(isbn)\n",
    "\n",
    "extract('The books have ISBN numbers like 978-3-16-148410-0 and 978-0-306-40615-7.')"
   ]
  },
  {
   "cell_type": "markdown",
   "id": "96012f22-551e-42b3-b617-d3ff2264a07f",
   "metadata": {},
   "source": [
    "### 9. Create a function to identify and extract URLs from a text while distinguishing between different types of URLs(e.g.,HTTP, HTTPS,FTP).\n",
    "\n",
    "### Input: \"Visit our sites at http://example.com, https://secure-site.org, and ftp://files.example.net.\""
   ]
  },
  {
   "cell_type": "code",
   "execution_count": 19,
   "id": "b3bf3a6f-7335-4786-827e-cc1f63aed4b4",
   "metadata": {},
   "outputs": [
    {
     "name": "stdout",
     "output_type": "stream",
     "text": [
      "['http://example.com', 'https://secure-site.org', 'ftp://files.example']\n"
     ]
    }
   ],
   "source": [
    "def extract(s):\n",
    "    URLs = re.findall(r'[a-z]+[\\:]//[a-z-]+\\.[a-z]{2,}',s)\n",
    "    print(URLs)\n",
    "\n",
    "extract('Visit our sites at http://example.com, https://secure-site.org, and ftp://files.example.net.')"
   ]
  },
  {
   "cell_type": "markdown",
   "id": "09679473-ae9e-4d0c-af14-2032b9da5323",
   "metadata": {},
   "source": [
    "### 10. Write a function to clean and preprocess text by removing HTML tags, unnecessary whitespace, and converting special characters to their plain text equivalents.\n",
    "\n",
    "### Input: \"Hello <b>World</b>! This is a <a href='http://example.com'>link</a>.\" Expected Output: \"Hello World! This is a link.\""
   ]
  },
  {
   "cell_type": "code",
   "execution_count": 26,
   "id": "21308464-5160-430f-a96f-40190cf34335",
   "metadata": {},
   "outputs": [
    {
     "name": "stdout",
     "output_type": "stream",
     "text": [
      "Hello World! This is a link.\n"
     ]
    }
   ],
   "source": [
    "def extract(s):\n",
    "    s = re.sub(r\"<b>|</b>|<a|</a>| href='[a-z]+[\\:]//[a-z-]+\\.[a-z]{2,}'>\",'',s)\n",
    "    print(s)\n",
    "\n",
    "extract(\"Hello <b>World</b>! This is a <a href='http://example.com'>link</a>.\")"
   ]
  },
  {
   "cell_type": "markdown",
   "id": "d04b8223-2a16-4dba-8521-ac17216f2091",
   "metadata": {},
   "source": [
    "### 11. Define a function to extract and sort all numerical values from a text, including handling numbers embedded in words or mixed with text.\n",
    "\n",
    "### Input: \"The quantities are 12 apples, 2 oranges, and 25 bananas.\" Expected Output: [2, 12, 25]"
   ]
  },
  {
   "cell_type": "code",
   "execution_count": 14,
   "id": "1a47e4d2-562e-462b-a764-959987944d56",
   "metadata": {},
   "outputs": [
    {
     "name": "stdout",
     "output_type": "stream",
     "text": [
      "[1, 2, 10, 12, 25]\n"
     ]
    }
   ],
   "source": [
    "import re\n",
    "def extract(s):\n",
    "    numbers = [int(i) for i in re.findall(r'[0-9]+',s)]\n",
    "    print(sorted(numbers))\n",
    "\n",
    "extract('The quantities are 12apples, 2 oranges1, and 25bananas10.')"
   ]
  },
  {
   "cell_type": "markdown",
   "id": "04a6b364-2024-4652-93fb-230c0e2720af",
   "metadata": {},
   "source": [
    "### 12. Create a function to identify and extract all instances of hashtags, mentions,and URLs from a social media post, ensuring proper separation and categorization.\n",
    "\n",
    "### Input: \"Check out #DataScience and @JohnDoe's post athttp://example.com! #AI\" Expected Output: {'hashtags':['#DataScience','#AI'], 'mentions':['@JohnDoe'], 'urls': ['http://example.com'] }"
   ]
  },
  {
   "cell_type": "code",
   "execution_count": 2,
   "id": "f7699e53-2e5b-4820-bc8f-2709482e7975",
   "metadata": {},
   "outputs": [
    {
     "name": "stdout",
     "output_type": "stream",
     "text": [
      "{'Hastags': ['#DataScience', '#AI'], 'Tags': ['@JohnDoe'], 'URLs': ['http://example.com']}\n"
     ]
    }
   ],
   "source": [
    "import re\n",
    "def extract(s):\n",
    "    hashtags = re.findall(r'#[\\w]+',s)\n",
    "    tags = re.findall(r'@[\\w]+',s)\n",
    "    urls = re.findall(r'[a-z]+[\\:]//[a-z-]+\\.[a-z]{2,}',s)\n",
    "    print(dict(zip(['Hastags','Tags','URLs'],[hashtags,tags,urls])))\n",
    "\n",
    "extract(\"Check out #DataScience and @JohnDoe's post at http://example.com! #AI\")"
   ]
  }
 ],
 "metadata": {
  "kernelspec": {
   "display_name": "Python 3 (ipykernel)",
   "language": "python",
   "name": "python3"
  },
  "language_info": {
   "codemirror_mode": {
    "name": "ipython",
    "version": 3
   },
   "file_extension": ".py",
   "mimetype": "text/x-python",
   "name": "python",
   "nbconvert_exporter": "python",
   "pygments_lexer": "ipython3",
   "version": "3.11.4"
  },
  "widgets": {
   "application/vnd.jupyter.widget-state+json": {
    "state": {},
    "version_major": 2,
    "version_minor": 0
   }
  }
 },
 "nbformat": 4,
 "nbformat_minor": 5
}
