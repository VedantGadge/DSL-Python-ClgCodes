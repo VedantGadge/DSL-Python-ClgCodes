{
 "cells": [
  {
   "cell_type": "markdown",
   "id": "e7e88d69-38f4-45a4-95f4-67e6eb4a1017",
   "metadata": {},
   "source": [
    "# Experiment 0"
   ]
  },
  {
   "cell_type": "markdown",
   "id": "578b3787-8e51-4b95-b622-6fc45af3e36f",
   "metadata": {},
   "source": [
    "#### 1. Create a program that takes user input and determines its data type. "
   ]
  },
  {
   "cell_type": "code",
   "execution_count": 1,
   "id": "e827d84a-7c25-4ef8-be3a-eaa89c9de28f",
   "metadata": {
    "scrolled": true
   },
   "outputs": [
    {
     "name": "stdin",
     "output_type": "stream",
     "text": [
      "Enter anything: 123\n"
     ]
    },
    {
     "name": "stdout",
     "output_type": "stream",
     "text": [
      "It's a <class 'str'>\n"
     ]
    }
   ],
   "source": [
    "a = input('Enter anything:')\n",
    "print('It\\'s a',type(a))"
   ]
  },
  {
   "cell_type": "markdown",
   "id": "901c7e6e-04a6-4948-bf4a-1fac78876339",
   "metadata": {},
   "source": [
    "#### 2. Write a program to perform arithmetic operations on two user-input numbers. "
   ]
  },
  {
   "cell_type": "code",
   "execution_count": 11,
   "id": "5cdc1ac5-8e4e-4ab9-97ff-1d9d41578d6a",
   "metadata": {
    "scrolled": true
   },
   "outputs": [
    {
     "name": "stdin",
     "output_type": "stream",
     "text": [
      "Enter the first number: 5\n",
      "Enter the second number: 10\n"
     ]
    },
    {
     "name": "stdout",
     "output_type": "stream",
     "text": [
      "The sum of the two numbers is: 15\n"
     ]
    }
   ],
   "source": [
    "a = int(input('Enter the first number:'))\n",
    "b = int(input('Enter the second number:'))\n",
    "print('The sum of the two numbers is:',a+b)"
   ]
  },
  {
   "cell_type": "markdown",
   "id": "02d8cb2c-4c78-4c43-8d44-063c29e1792b",
   "metadata": {},
   "source": [
    "#### 3. Create a program that uses all comparison operators and prints the results for two user-input numbers. "
   ]
  },
  {
   "cell_type": "code",
   "execution_count": 12,
   "id": "a1d4b599-61e9-4294-a638-22e4a09e5f34",
   "metadata": {
    "scrolled": true
   },
   "outputs": [
    {
     "name": "stdin",
     "output_type": "stream",
     "text": [
      "Enter the first number: 5\n",
      "Enter the second number: 10\n"
     ]
    },
    {
     "name": "stdout",
     "output_type": "stream",
     "text": [
      "5 > 10 : False\n",
      "5 < 10 : True\n",
      "5 >= 10 : False\n",
      "5 <= 10 : True\n",
      "5 == 10 : False\n",
      "5 != 10 : True\n"
     ]
    }
   ],
   "source": [
    "a = int(input('Enter the first number:'))\n",
    "b = int(input('Enter the second number:'))\n",
    "print(a,'>',b,':',a>b)\n",
    "print(a,'<',b,':',a<b)\n",
    "print(a,'>=',b,':',a>=b)\n",
    "print(a,'<=',b,':',a<=b)\n",
    "print(a,'==',b,':',a==b)\n",
    "print(a,'!=',b,':',a!=b)"
   ]
  },
  {
   "cell_type": "markdown",
   "id": "9a6b5b24-d979-4b94-a57f-c62647adc72c",
   "metadata": {},
   "source": [
    "#### 4. Write a program that takes three user-input numbers and calculates their average. "
   ]
  },
  {
   "cell_type": "code",
   "execution_count": 13,
   "id": "5964a082-cb47-4221-9069-3463ac9969a8",
   "metadata": {
    "scrolled": true
   },
   "outputs": [
    {
     "name": "stdin",
     "output_type": "stream",
     "text": [
      "Enter first number: 5\n",
      "Enter second number: 10\n",
      "Enter third number: 15\n"
     ]
    },
    {
     "name": "stdout",
     "output_type": "stream",
     "text": [
      "The average of the above numbers is: 10.0\n"
     ]
    }
   ],
   "source": [
    "a = int(input('Enter first number:'))\n",
    "b = int(input('Enter second number:'))\n",
    "c = int(input('Enter third number:'))\n",
    "print('The average of the above numbers is:',(a+b+c)/3)"
   ]
  },
  {
   "cell_type": "markdown",
   "id": "1b2c4237-5b38-42f4-b437-5ae48ce1c9ba",
   "metadata": {},
   "source": [
    "#### 5. Write a program that takes the principal amount, rate of interest, and time period from the user and calculates the simple interest. "
   ]
  },
  {
   "cell_type": "code",
   "execution_count": 15,
   "id": "3817a347-57b2-4c6e-b10e-e8d07d737fac",
   "metadata": {},
   "outputs": [
    {
     "name": "stdin",
     "output_type": "stream",
     "text": [
      "Enter the principal amount: 10000\n",
      "Enter the rate of interest: 8\n",
      "Enter the time period in yrs: 10\n"
     ]
    },
    {
     "name": "stdout",
     "output_type": "stream",
     "text": [
      "The simple interest is: Rs 8000.0\n"
     ]
    }
   ],
   "source": [
    "p = int(input('Enter the principal amount:'))\n",
    "r = int(input('Enter the rate of interest:'))\n",
    "t = int(input('Enter the time period in yrs:'))\n",
    "print('The simple interest is: Rs',(p*r*t)/100)"
   ]
  }
 ],
 "metadata": {
  "kernelspec": {
   "display_name": "Python 3 (ipykernel)",
   "language": "python",
   "name": "python3"
  },
  "language_info": {
   "codemirror_mode": {
    "name": "ipython",
    "version": 3
   },
   "file_extension": ".py",
   "mimetype": "text/x-python",
   "name": "python",
   "nbconvert_exporter": "python",
   "pygments_lexer": "ipython3",
   "version": "3.11.4"
  },
  "widgets": {
   "application/vnd.jupyter.widget-state+json": {
    "state": {},
    "version_major": 2,
    "version_minor": 0
   }
  }
 },
 "nbformat": 4,
 "nbformat_minor": 5
}
