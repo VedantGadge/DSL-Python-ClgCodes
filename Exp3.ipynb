{
 "cells": [
  {
   "cell_type": "markdown",
   "id": "0fe2155a-cf85-4e78-aef8-2c47635e78e1",
   "metadata": {},
   "source": [
    "# Experiment 3"
   ]
  },
  {
   "cell_type": "markdown",
   "id": "aca0cf78-aae4-4231-a10c-84c387363a58",
   "metadata": {},
   "source": [
    "### 1. Create a list of the first 10 positive integers and print the sum of the even numbers in the list."
   ]
  },
  {
   "cell_type": "code",
   "execution_count": 2,
   "id": "0f7c4be2-4460-4635-a827-dbb7497f61d5",
   "metadata": {},
   "outputs": [
    {
     "name": "stdout",
     "output_type": "stream",
     "text": [
      "30\n"
     ]
    }
   ],
   "source": [
    "l = (1, 2, 3, 4, 5, 6, 7, 8, 9, 10)\n",
    "s = sum(i for i in l if i % 2 == 0)\n",
    "print(s)"
   ]
  },
  {
   "cell_type": "markdown",
   "id": "460e2ad0-87c9-49f5-b30e-1a46bbc9f8b1",
   "metadata": {},
   "source": [
    "### 2. Given the tuple (10, 20, 30, 40, 50), use slicing to print a new tuple containing only the last three elements."
   ]
  },
  {
   "cell_type": "code",
   "execution_count": 23,
   "id": "0d735887-7b84-4e5a-a1f0-2cce64e834d0",
   "metadata": {},
   "outputs": [
    {
     "name": "stdout",
     "output_type": "stream",
     "text": [
      "[30, 40, 50]\n"
     ]
    }
   ],
   "source": [
    "t1 = [10, 20, 30, 40, 50]\n",
    "t2 = t1[(len(t1)-3):] #Will always resturn the last 3 elements of the tupple\n",
    "print(t2)"
   ]
  },
  {
   "cell_type": "markdown",
   "id": "9393819b-2e4f-46c9-ab82-b95a2782f303",
   "metadata": {},
   "source": [
    "### 3. Create a set of the numbers {1, 2, 3, 4, 5} and compute the intersection with {4, 5, 6,7}; print the result. "
   ]
  },
  {
   "cell_type": "code",
   "execution_count": 27,
   "id": "d2b89c8b-2675-4caa-be09-79494b304b24",
   "metadata": {},
   "outputs": [
    {
     "name": "stdout",
     "output_type": "stream",
     "text": [
      "{4, 5}\n"
     ]
    }
   ],
   "source": [
    "s1 = {1,2,3,4,5}\n",
    "print(s1.intersection({4,5,6,7}))"
   ]
  },
  {
   "cell_type": "markdown",
   "id": "504f073f-525c-4b98-9817-2e66e686b909",
   "metadata": {},
   "source": [
    "### 4. Define a dictionary with the keys 'a', 'b', and 'c' and their respective values 1, 2, and 3,then update the value for key 'b' to 10 and print the updated dictionary."
   ]
  },
  {
   "cell_type": "code",
   "execution_count": 29,
   "id": "8c6d90af-efbc-4acf-836f-cff1499e4a5b",
   "metadata": {},
   "outputs": [
    {
     "name": "stdout",
     "output_type": "stream",
     "text": [
      "{'a': 1, 'b': 10, 'c': 3}\n"
     ]
    }
   ],
   "source": [
    "d = {'a':1, 'b':2, 'c':3}\n",
    "d['b'] = 10\n",
    "print(d)"
   ]
  },
  {
   "cell_type": "markdown",
   "id": "b6fd6652-d83c-483c-abf9-08926edf4508",
   "metadata": {},
   "source": [
    "### 5. Using a list comprehension, create a list of squares for the numbers from 1 to 5 and print the resulting list."
   ]
  },
  {
   "cell_type": "code",
   "execution_count": 31,
   "id": "b7a9ac5a-aa44-4108-bdd8-a9119a21a974",
   "metadata": {
    "scrolled": true
   },
   "outputs": [
    {
     "name": "stdout",
     "output_type": "stream",
     "text": [
      "[1, 4, 9, 16, 25]\n"
     ]
    }
   ],
   "source": [
    "l = list(i**2 for i in range(1,6))\n",
    "print(l)"
   ]
  },
  {
   "cell_type": "markdown",
   "id": "045cc0dc-fdaf-44bd-b9e0-a2fe9ad1c561",
   "metadata": {},
   "source": [
    "### 6. Create a tuple with elements 'cat', 'dog', and 'bird', then check and print whether 'dog' is in the tuple."
   ]
  },
  {
   "cell_type": "code",
   "execution_count": 36,
   "id": "8ea68e1d-ca54-4866-8ed8-3e2b39b0b7a7",
   "metadata": {},
   "outputs": [
    {
     "name": "stdout",
     "output_type": "stream",
     "text": [
      "Present\n"
     ]
    }
   ],
   "source": [
    "t = ('cat','dog','bird')\n",
    "print('Present') if 'dog' in t else print('Not present')"
   ]
  },
  {
   "cell_type": "markdown",
   "id": "f5850894-2e58-4c5c-9402-ef4a7c9013f4",
   "metadata": {},
   "source": [
    "### 7. Given the list [1, 1, 2, 3, 5, 8, 13], convert it to a set and print the set’s length."
   ]
  },
  {
   "cell_type": "code",
   "execution_count": 39,
   "id": "4fccaa5f-312e-47a6-a3d5-8e979afda93f",
   "metadata": {},
   "outputs": [
    {
     "name": "stdout",
     "output_type": "stream",
     "text": [
      "6\n"
     ]
    }
   ],
   "source": [
    "print(len(set([1, 1, 2, 3, 5, 8, 13])))"
   ]
  },
  {
   "cell_type": "markdown",
   "id": "36f9a901-0322-4490-bc7d-a79aacddfa19",
   "metadata": {},
   "source": [
    "### 8. Create two dictionaries {'A': [1, 2], 'B': [3, 4]} and {'B': [5, 6], 'C': [7, 8]}, then merge them into one dictionary and print the result."
   ]
  },
  {
   "cell_type": "code",
   "execution_count": 40,
   "id": "3f7b3b9c-ea63-434b-ade7-4703c44b3849",
   "metadata": {},
   "outputs": [
    {
     "name": "stdout",
     "output_type": "stream",
     "text": [
      "{'A': [1, 2], 'B': [5, 6], 'C': [7, 8]}\n"
     ]
    }
   ],
   "source": [
    "d1 = {'A': [1, 2], 'B': [3, 4]}\n",
    "d2 = {'B': [5, 6], 'C': [7, 8]}\n",
    "d1.update(d2)\n",
    "print(d1)"
   ]
  },
  {
   "cell_type": "markdown",
   "id": "7ee3e690-271e-42bc-8cba-47fa17c3c6d4",
   "metadata": {},
   "source": [
    "### 9. For the list [3, 5, 7, 3, 5, 9, 3], create a dictionary to count the occurrences of each element and print the dictionary."
   ]
  },
  {
   "cell_type": "code",
   "execution_count": 43,
   "id": "cce00028-81f2-4d02-8f0d-64242eb5a700",
   "metadata": {},
   "outputs": [
    {
     "name": "stdout",
     "output_type": "stream",
     "text": [
      "{3: 3, 5: 2, 7: 1, 9: 1}\n"
     ]
    }
   ],
   "source": [
    "freq = {}\n",
    "for i in [3, 5, 7, 3, 5, 9, 3] :\n",
    "    freq[i] = freq.get(i,0) + 1 #.get() returns the value of the given key, if not present it returns 0\n",
    "print(freq)"
   ]
  },
  {
   "cell_type": "markdown",
   "id": "456dd3c1-7268-4e89-9608-7912d97b51ad",
   "metadata": {},
   "source": [
    "### 10. Define a tuple (1, 2, 3, 4, 5) and find the maximum and minimum values in the tuple; print both values."
   ]
  },
  {
   "cell_type": "code",
   "execution_count": 44,
   "id": "1ac0e2f8-45c2-4a00-bda0-726f390be4eb",
   "metadata": {},
   "outputs": [
    {
     "name": "stdout",
     "output_type": "stream",
     "text": [
      "Max value: 5\n",
      "Min value: 1\n"
     ]
    }
   ],
   "source": [
    "t = (1, 2, 3, 4, 5)\n",
    "print(f'Max value: {max(t)}')\n",
    "print(f'Min value: {min(t)}')"
   ]
  },
  {
   "cell_type": "markdown",
   "id": "a803b20f-b7ff-4c59-817a-7abb3f24a53d",
   "metadata": {},
   "source": [
    "### 11. Given a list of integers [12, 15, 18, 20, 22, 25, 30], calculate and print the variance using the statistics module."
   ]
  },
  {
   "cell_type": "code",
   "execution_count": 50,
   "id": "8abc32f0-3f8b-4d1f-8334-a15b32f262c6",
   "metadata": {},
   "outputs": [
    {
     "name": "stdout",
     "output_type": "stream",
     "text": [
      "The variance of [12, 15, 18, 20, 22, 25, 30] is: 36.904761904761905\n"
     ]
    }
   ],
   "source": [
    "import statistics\n",
    "l = [12, 15, 18, 20, 22, 25, 30]\n",
    "print(f'The variance of {l} is: {statistics.variance(l)}')"
   ]
  },
  {
   "cell_type": "markdown",
   "id": "a9b7b007-8e8d-4fd4-b8ea-dabb5014ae26",
   "metadata": {},
   "source": [
    "### 12. Create a dictionary where keys are product names and values are their sales numbers; calculate and print the total sales across all products. "
   ]
  },
  {
   "cell_type": "code",
   "execution_count": 5,
   "id": "34d169d7-dac6-4ee9-beac-c65d7b9d7e6b",
   "metadata": {},
   "outputs": [
    {
     "name": "stdout",
     "output_type": "stream",
     "text": [
      "1000\n"
     ]
    }
   ],
   "source": [
    "sales = {'books': 150, 'pencil': 350, 'ruler': 400, 'eraser': 100}\n",
    "print(sum(sales.values()))"
   ]
  },
  {
   "cell_type": "markdown",
   "id": "87a82e02-5d7d-485f-b064-af2788da3467",
   "metadata": {},
   "source": [
    "### 13.  From a list of temperatures [22, 25, 19, 30, 28, 32, 26], find and print the highest and lowest temperatures using the max () and min() functions"
   ]
  },
  {
   "cell_type": "code",
   "execution_count": 59,
   "id": "e5619ce1-2fa2-45bd-886c-cdca4872c6f0",
   "metadata": {},
   "outputs": [
    {
     "name": "stdout",
     "output_type": "stream",
     "text": [
      "Highest temp: 32\n",
      "Lowest temp: 19\n"
     ]
    }
   ],
   "source": [
    "temp = [22, 25, 19, 30, 28, 32, 26]\n",
    "print(f'Highest temp: {max(temp)}')\n",
    "print(f'Lowest temp: {min(temp)}')"
   ]
  },
  {
   "cell_type": "markdown",
   "id": "21236e42-783a-408b-bcc3-3e2c161834ae",
   "metadata": {},
   "source": [
    "### 14. Create a list of tuples representing student scores [(90, 'Alice'), (85, 'Bob'), (88,'Charlie')] and print the name of the student with the highest score."
   ]
  },
  {
   "cell_type": "code",
   "execution_count": 4,
   "id": "d92cd0cc-c997-4157-b93a-59b6e4a4acd9",
   "metadata": {},
   "outputs": [
    {
     "name": "stdout",
     "output_type": "stream",
     "text": [
      "Alice\n"
     ]
    }
   ],
   "source": [
    "scores = [(90, 'Alice'), (85, 'Bob'), (88,'Charlie')]\n",
    "Max = 0\n",
    "topper = ''\n",
    "for i in scores:\n",
    "        if i[0] > Max : \n",
    "            Max = i[0]\n",
    "            topper = i[1]\n",
    "print(topper)"
   ]
  },
  {
   "cell_type": "markdown",
   "id": "a2800109-88f9-493f-8f8d-d332a7d8eae9",
   "metadata": {},
   "source": [
    "### 15. Given a list of numbers [2, 4, 6, 8, 10], compute and print the cumulative sum of the list using a loop."
   ]
  },
  {
   "cell_type": "code",
   "execution_count": 5,
   "id": "aca9f454-6069-4923-9072-c2e46da2dfbc",
   "metadata": {},
   "outputs": [
    {
     "name": "stdout",
     "output_type": "stream",
     "text": [
      "[2, 6, 12, 20, 30]\n"
     ]
    }
   ],
   "source": [
    "l1 = [2, 4, 6, 8, 10]\n",
    "l2 = []\n",
    "c = 0\n",
    "for i in l1: \n",
    "    c +=i\n",
    "    l2.append(c)\n",
    "print(l2)"
   ]
  },
  {
   "cell_type": "markdown",
   "id": "ec53e06c-f671-4681-929f-802a46de2b40",
   "metadata": {},
   "source": [
    "### 16. Create a list of squares for numbers 1 through 10 using a list comprehension."
   ]
  },
  {
   "cell_type": "code",
   "execution_count": 7,
   "id": "6ce45caf-e5c6-44a0-8655-91b22307cc10",
   "metadata": {},
   "outputs": [
    {
     "name": "stdout",
     "output_type": "stream",
     "text": [
      "[1, 4, 9, 16, 25, 36, 49, 64, 81, 100]\n"
     ]
    }
   ],
   "source": [
    "l = [i**2 for i in range (1,11)]\n",
    "print(l)"
   ]
  },
  {
   "cell_type": "markdown",
   "id": "f02cf2d3-84b2-4c20-9c6b-01f7e558d27a",
   "metadata": {},
   "source": [
    "### 17. Create a list that replaces every number divisible by 3 with \"Fizz\", every number divisible by 5 with \"Buzz\", and numbers divisible by both with \"FizzBuzz\", for numbers 1 through 15."
   ]
  },
  {
   "cell_type": "code",
   "execution_count": 12,
   "id": "47fb2496-b358-4108-8a13-c549db98e65c",
   "metadata": {},
   "outputs": [
    {
     "name": "stdout",
     "output_type": "stream",
     "text": [
      "[1, 2, 'Fiz', 4, 'Buzz', 'Fiz', 7, 8, 'Fiz', 'Buzz', 11, 'Fiz', 13, 14, 'FizzBuzz']\n"
     ]
    }
   ],
   "source": [
    "l = []\n",
    "for i in range(1,16):\n",
    "    \n",
    "    if(i%3 == 0 and i%5 == 0):\n",
    "        l.append('FizzBuzz')\n",
    "    elif(i%3 == 0):\n",
    "        l.append('Fiz')\n",
    "    elif(i%5 == 0):\n",
    "        l.append('Buzz')\n",
    "    else:\n",
    "        l.append(i)\n",
    "        \n",
    "print(l)"
   ]
  },
  {
   "cell_type": "markdown",
   "id": "6b8fe616-5a94-4006-9ed9-c51a4b843c7e",
   "metadata": {},
   "source": [
    "### 18.  Create a list of numbers from 1 to 100 that are divisible by both 2 and 5."
   ]
  },
  {
   "cell_type": "code",
   "execution_count": 13,
   "id": "b9e7965b-e733-47c8-af75-7baddf381add",
   "metadata": {},
   "outputs": [
    {
     "name": "stdout",
     "output_type": "stream",
     "text": [
      "[10, 20, 30, 40, 50, 60, 70, 80, 90, 100]\n"
     ]
    }
   ],
   "source": [
    "l = [i for i in range(1,101) if i%2==0 and i%5==0]\n",
    "print(l)"
   ]
  },
  {
   "cell_type": "markdown",
   "id": "313bd1a0-0e6c-495b-91cc-fe1dad4505eb",
   "metadata": {},
   "source": [
    "### 19. Write a program that takes a dictionary where each value is a list and converts it into a dictionary where each value is a set containing the unique elements from the original list."
   ]
  },
  {
   "cell_type": "code",
   "execution_count": 6,
   "id": "b77b97b8-3782-4cab-977a-802d46f24116",
   "metadata": {},
   "outputs": [
    {
     "name": "stdout",
     "output_type": "stream",
     "text": [
      "{(1, 2, 2, 3): {1, 2, 3}, (4, 3, 4, 2, 1): {1, 2, 3, 4}, (5, 6, 6, 6, 5): {5, 6}}\n"
     ]
    }
   ],
   "source": [
    "d1 = { (1,2,2,3) : [1,2,2,3] , (4,3,4,2,1) : [4,3,4,2,1] , (5,6,6,6,5) : [5,6,6,6,5] }\n",
    "for i, j in d1.items():\n",
    "    d1[i] = set(j)\n",
    "print(d1)"
   ]
  },
  {
   "cell_type": "markdown",
   "id": "7b79ea36-3aa4-43dd-8c49-860cc976c666",
   "metadata": {},
   "source": [
    "### 20. Write a program that takes two dictionaries and returns a set of keys that are present in the first dictionary but not in the second. "
   ]
  },
  {
   "cell_type": "code",
   "execution_count": 1,
   "id": "edb43c6d-1ff2-43d5-bad6-e1cec19efe71",
   "metadata": {
    "scrolled": true
   },
   "outputs": [
    {
     "name": "stdout",
     "output_type": "stream",
     "text": [
      "{'b', 'a'}\n"
     ]
    }
   ],
   "source": [
    "d1 = { 'a':1 , 'b':2 , 'c':3 }\n",
    "d2 = { 'c':4 , 'd':5 , 'e':6 }\n",
    "print(set(d1.keys()) - set(d2.keys()))"
   ]
  },
  {
   "cell_type": "markdown",
   "id": "97bbf59b-f23d-4ec5-91ab-455d22e82656",
   "metadata": {},
   "source": [
    "### 21. Write a function that takes two sets of tuples and returns a tuple containing three sets:\n",
    "###     Elements that are in both sets.\n",
    "###     Elements that are only in the first set.\n",
    "###     Elements that are only in the second set. "
   ]
  },
  {
   "cell_type": "code",
   "execution_count": 10,
   "id": "e0453868-dc47-4ec5-9043-3f64d596ffea",
   "metadata": {},
   "outputs": [
    {
     "name": "stdout",
     "output_type": "stream",
     "text": [
      "({(5, 6), (3, 4)}, {(1, 2)}, {(7, 8)})\n"
     ]
    }
   ],
   "source": [
    "def compare(set1 , set2):\n",
    "    s1 = set(set1)\n",
    "    s2 = set(set2)\n",
    "    return (s1 & s2 , s1-s2, s2-s1)\n",
    "\n",
    "set1 = {(1, 2), (3, 4), (5, 6)}\n",
    "set2 = {(3, 4), (7, 8), (5, 6)}\n",
    "print(compare(set1 , set2))"
   ]
  },
  {
   "cell_type": "markdown",
   "id": "994bb80c-d608-46e3-9f83-3304f1ff6f0f",
   "metadata": {},
   "source": [
    "### 22. Write a program that takes a list of sets and returns a single set that is the union of all the sets in the list."
   ]
  },
  {
   "cell_type": "code",
   "execution_count": 4,
   "id": "6b0b0b1f-6f92-495f-ad9f-c5afcbbebb6a",
   "metadata": {},
   "outputs": [
    {
     "name": "stdout",
     "output_type": "stream",
     "text": [
      "{1, 2, 3, 4, 5, 6, 7, 8, 9}\n"
     ]
    }
   ],
   "source": [
    "l = [{1,2,3},{3,4,5},{5,6,7},{7,8,9}]\n",
    "s = set()\n",
    "for i in l:\n",
    "    s = s.union(i)\n",
    "print(s)"
   ]
  },
  {
   "cell_type": "markdown",
   "id": "29493c6c-b257-410d-8ab7-b07a9fd28528",
   "metadata": {},
   "source": [
    "### 23. Write a program that takes a list of tuples and rotates each tuple by a given number of positions. For example, rotating (1, 2, 3, 4) by 2 positions would result in (3, 4, 1,2)."
   ]
  },
  {
   "cell_type": "code",
   "execution_count": 7,
   "id": "808a1f70-294c-4b36-9320-bbca72e9fddb",
   "metadata": {},
   "outputs": [
    {
     "name": "stdout",
     "output_type": "stream",
     "text": [
      "[(3, 4, 1, 2), (7, 5, 6), (8, 9)]\n"
     ]
    }
   ],
   "source": [
    "def rotate_tuple(tup, positions):\n",
    "    positions %= len(tup)  # Handle rotations larger than the tuple length, calculates the actual no of rotations to perform\n",
    "    return tup[positions:] + tup[:positions] # Slicing used\n",
    "\n",
    "def rotate_tuples_list(tuples_list, positions):\n",
    "    return [rotate_tuple(tup, positions) for tup in tuples_list] # Updates the tuples of the list with the new rotated ones\n",
    "\n",
    "tuples_list = [(1, 2, 3, 4), (5, 6, 7), (8, 9)]\n",
    "positions = 2\n",
    "\n",
    "rotated_list = rotate_tuples_list(tuples_list, positions)\n",
    "print(rotated_list)"
   ]
  },
  {
   "cell_type": "markdown",
   "id": "18c1ea5e-bc34-453c-8544-b070e25dbc29",
   "metadata": {},
   "source": [
    "### 24. Write a program that takes a list of tuples where each tuple contains integers and returns the tuple with the highest sum of its elements. "
   ]
  },
  {
   "cell_type": "code",
   "execution_count": 5,
   "id": "d2069ca7-ea5f-4fa3-aed2-cb8546660245",
   "metadata": {},
   "outputs": [
    {
     "name": "stdout",
     "output_type": "stream",
     "text": [
      "(0, 4, 2, 3, 9)\n"
     ]
    }
   ],
   "source": [
    "l = [(2,3,4,1),(0,4,2,3,9),(3,4,5,1,2,3)]\n",
    "s = 0\n",
    "t=()\n",
    "for i in l:\n",
    "   if sum(i)>s:\n",
    "       s = sum(i)\n",
    "       t = i\n",
    "print(t)  "
   ]
  }
 ],
 "metadata": {
  "kernelspec": {
   "display_name": "Python 3 (ipykernel)",
   "language": "python",
   "name": "python3"
  },
  "language_info": {
   "codemirror_mode": {
    "name": "ipython",
    "version": 3
   },
   "file_extension": ".py",
   "mimetype": "text/x-python",
   "name": "python",
   "nbconvert_exporter": "python",
   "pygments_lexer": "ipython3",
   "version": "3.12.5"
  }
 },
 "nbformat": 4,
 "nbformat_minor": 5
}
