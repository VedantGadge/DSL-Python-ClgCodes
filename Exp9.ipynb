{
 "cells": [
  {
   "cell_type": "markdown",
   "id": "184470fe-4a2d-4b63-b6d1-b8888fa0cf84",
   "metadata": {},
   "source": [
    "# Experiment 9\n",
    "# D115 Vedant Gadge 60009230120"
   ]
  },
  {
   "cell_type": "code",
   "execution_count": 2,
   "id": "412ade3e-0f61-4586-9be8-d8f6c2308bb8",
   "metadata": {},
   "outputs": [],
   "source": [
    "import pandas as pd\n",
    "import numpy as np"
   ]
  },
  {
   "cell_type": "markdown",
   "id": "09df7894-c7c3-4732-82e9-c30f2083166d",
   "metadata": {},
   "source": [
    "### 1. Create a Pandas Series from a list of 10 random integers and calculate its mean."
   ]
  },
  {
   "cell_type": "code",
   "execution_count": 10,
   "id": "63f39787-b49e-47fb-8864-08bec2285f4b",
   "metadata": {
    "scrolled": true
   },
   "outputs": [
    {
     "name": "stdout",
     "output_type": "stream",
     "text": [
      "The series is:  [37 88  6  9 99 92 77 45 20 50]\n",
      "The mean of the values in the series is:  52.3\n"
     ]
    }
   ],
   "source": [
    "s = pd.Series(np.random.randint(1,101,size=10))\n",
    "print('The series is: ',s.values)\n",
    "print('The mean of the values in the series is: ',s.mean())"
   ]
  },
  {
   "cell_type": "markdown",
   "id": "64ff5458-a08f-419b-b5e3-931e1c1f4595",
   "metadata": {},
   "source": [
    "### 2. Create a DataFrame from a dictionary with columns 'Name', 'Age', and 'City'."
   ]
  },
  {
   "cell_type": "code",
   "execution_count": 8,
   "id": "b1a23ace-929a-477b-b3ee-48d835bb09da",
   "metadata": {},
   "outputs": [
    {
     "name": "stdout",
     "output_type": "stream",
     "text": [
      "      Name  Age      City\n",
      "0   Vedant   18  New York\n",
      "1  Devansh   25     Miami\n",
      "2   Aditya   25    Mumbai\n",
      "3    Tanay   16    Madrid\n"
     ]
    }
   ],
   "source": [
    "df = pd.DataFrame({'Name': ['Vedant','Devansh','Aditya','Tanay'],\n",
    "                  'Age' : [18,25,25,16],\n",
    "                  'City': ['New York','Miami','Mumbai','Madrid']})\n",
    "print(df)"
   ]
  },
  {
   "cell_type": "markdown",
   "id": "e36d24fa-a531-474a-9af0-da8fe2d83f02",
   "metadata": {},
   "source": [
    "### 3. Access the first 5 elements of a Pandas Series using slicing "
   ]
  },
  {
   "cell_type": "code",
   "execution_count": 11,
   "id": "cbac8852-b029-4648-bca0-b5cede8eeedf",
   "metadata": {},
   "outputs": [
    {
     "name": "stdout",
     "output_type": "stream",
     "text": [
      "The first 5 elements of the series are:  [37 88  6  9 99]\n"
     ]
    }
   ],
   "source": [
    "print('The first 5 elements of the series are: ',s[:5].values)"
   ]
  },
  {
   "cell_type": "markdown",
   "id": "5da7e423-a973-4fd0-95fc-a94a04c13b86",
   "metadata": {},
   "source": [
    "### 4. Add a new column 'Score' to a DataFrame with values [85, 90, 78, 92]."
   ]
  },
  {
   "cell_type": "code",
   "execution_count": 12,
   "id": "79e8750f-05c1-4174-8a65-97d74c52d745",
   "metadata": {},
   "outputs": [
    {
     "name": "stdout",
     "output_type": "stream",
     "text": [
      "      Name  Age      City  Score\n",
      "0   Vedant   18  New York     85\n",
      "1  Devansh   25     Miami     90\n",
      "2   Aditya   25    Mumbai     78\n",
      "3    Tanay   16    Madrid     92\n"
     ]
    }
   ],
   "source": [
    "df['Score'] = [85, 90, 78, 92]\n",
    "print(df)"
   ]
  },
  {
   "cell_type": "markdown",
   "id": "bb654ec7-cbd7-40aa-a250-095e338b25c1",
   "metadata": {},
   "source": [
    "### 5. Use .iloc to access the first row of a DataFrame."
   ]
  },
  {
   "cell_type": "code",
   "execution_count": 16,
   "id": "5ecbfc74-5b67-40e9-acd9-493abee72f3e",
   "metadata": {},
   "outputs": [
    {
     "name": "stdout",
     "output_type": "stream",
     "text": [
      "Name       Vedant\n",
      "Age            18\n",
      "City     New York\n",
      "Score          85\n",
      "Name: 0, dtype: object\n"
     ]
    }
   ],
   "source": [
    "print(df.iloc[0])"
   ]
  },
  {
   "cell_type": "markdown",
   "id": "2ed9af52-a2b0-46c4-aeb8-802ee182f709",
   "metadata": {},
   "source": [
    "### 6. Use .loc to select the rows where 'Age' is 25 in a DataFrame"
   ]
  },
  {
   "cell_type": "code",
   "execution_count": 17,
   "id": "d229b686-14e8-459c-afc6-3c41c28023e8",
   "metadata": {},
   "outputs": [
    {
     "name": "stdout",
     "output_type": "stream",
     "text": [
      "      Name  Age    City  Score\n",
      "1  Devansh   25   Miami     90\n",
      "2   Aditya   25  Mumbai     78\n"
     ]
    }
   ],
   "source": [
    "print(df.loc[df['Age'] == 25])"
   ]
  },
  {
   "cell_type": "markdown",
   "id": "2068dcb5-8cd2-41cb-8561-b5e8c8743fc9",
   "metadata": {},
   "source": [
    "### 7. Create a Series with a custom index ['a', 'b', 'c'] and access the value at index 'b'."
   ]
  },
  {
   "cell_type": "code",
   "execution_count": 28,
   "id": "0582e89a-2065-4151-9bb2-ae8b2a76bf47",
   "metadata": {},
   "outputs": [
    {
     "name": "stdout",
     "output_type": "stream",
     "text": [
      "The series is:  [10 20 30]\n",
      "The value at label b:  20\n"
     ]
    }
   ],
   "source": [
    "s = pd.Series([10,20,30], index = ['a','b','c'])\n",
    "print('The series is: ',s.values)\n",
    "print('The value at label b: ',s['b'])"
   ]
  },
  {
   "cell_type": "markdown",
   "id": "cdfa8751-4117-49d8-b786-4e3294d3b82f",
   "metadata": {},
   "source": [
    "### 8. Calculate the standard deviation of a Series containing numerical values."
   ]
  },
  {
   "cell_type": "code",
   "execution_count": 25,
   "id": "5e9f903b-45fc-46e3-8be5-cb37a948a2ec",
   "metadata": {},
   "outputs": [
    {
     "name": "stdout",
     "output_type": "stream",
     "text": [
      "The standard deviation of the series [10 20 30] is: 10.0\n"
     ]
    }
   ],
   "source": [
    "print(f'The standard deviation of the series {s.values} is: {s.std()}')"
   ]
  },
  {
   "cell_type": "markdown",
   "id": "04441b5c-29f6-45d2-acba-72b006e4e320",
   "metadata": {},
   "source": [
    "### 9. Create a DataFrame and drop the 'City' column using the drop method."
   ]
  },
  {
   "cell_type": "code",
   "execution_count": 82,
   "id": "e10f51aa-c42c-47fd-a304-3c9674aa6f45",
   "metadata": {},
   "outputs": [
    {
     "name": "stdout",
     "output_type": "stream",
     "text": [
      "      Name  Age      City\n",
      "0   Vedant   18  New York\n",
      "1  Devansh   25     Miami\n",
      "2   Aditya   25    Mumbai\n",
      "3    Tanay   16    Madrid \n",
      "\n",
      "After dropping City\n",
      "      Name  Age\n",
      "0   Vedant   18\n",
      "1  Devansh   25\n",
      "2   Aditya   25\n",
      "3    Tanay   16\n"
     ]
    }
   ],
   "source": [
    "df = pd.DataFrame({'Name': ['Vedant','Devansh','Aditya','Tanay'],\n",
    "                  'Age' : [18,25,25,16],\n",
    "                  'City': ['New York','Miami','Mumbai','Madrid']})\n",
    "print(df,'\\n')\n",
    "print('After dropping City')\n",
    "print(df.drop('City',axis = 1))"
   ]
  },
  {
   "cell_type": "markdown",
   "id": "0ff3a2d4-a151-4474-836f-326480339d5e",
   "metadata": {},
   "source": [
    "### 10. Filter a DataFrame to show rows where 'Age' is greater than 30 using boolean indexing."
   ]
  },
  {
   "cell_type": "code",
   "execution_count": 83,
   "id": "c9893379-f436-417d-9eba-fae24d9b8c8c",
   "metadata": {},
   "outputs": [
    {
     "name": "stdout",
     "output_type": "stream",
     "text": [
      "     Name  Age      City\n",
      "0  Vedant   38  New York\n",
      "3   Tanay   46    Madrid\n"
     ]
    }
   ],
   "source": [
    "df = pd.DataFrame({'Name': ['Vedant','Devansh','Aditya','Tanay'],\n",
    "                  'Age' : [38,30,25,46],\n",
    "                  'City': ['New York','Miami','Mumbai','Madrid']})\n",
    "print(df[df['Age']>30])"
   ]
  },
  {
   "cell_type": "markdown",
   "id": "7e68bfc0-8c72-45f3-b61e-ec02e0b41c8d",
   "metadata": {},
   "source": [
    "### 11. Apply a lambda function to a DataFrame column to square the values. "
   ]
  },
  {
   "cell_type": "code",
   "execution_count": 81,
   "id": "d11c302c-26f8-4e0c-a87a-840aefce2d57",
   "metadata": {},
   "outputs": [
    {
     "name": "stdout",
     "output_type": "stream",
     "text": [
      "    A\n",
      "0   2\n",
      "1   4\n",
      "2   6\n",
      "3   8\n",
      "4  10 \n",
      "\n",
      "After squaring\n",
      "     A\n",
      "0    4\n",
      "1   16\n",
      "2   36\n",
      "3   64\n",
      "4  100\n"
     ]
    }
   ],
   "source": [
    "df1 = pd.DataFrame({'A': [2,4,6,8,10]})\n",
    "print(df1,'\\n')\n",
    "df1['A'] = df1['A'].apply(lambda x: x**2)\n",
    "print('After squaring')\n",
    "print(df1)"
   ]
  },
  {
   "cell_type": "markdown",
   "id": "c91dd09a-7917-47af-808f-6ae65680165c",
   "metadata": {},
   "source": [
    "### 12. Use .iloc to select the last 3 rows of a DataFrame"
   ]
  },
  {
   "cell_type": "code",
   "execution_count": 57,
   "id": "1ff4f997-2e76-47b4-89ee-8cb01b811516",
   "metadata": {
    "scrolled": true
   },
   "outputs": [
    {
     "name": "stdout",
     "output_type": "stream",
     "text": [
      "     A\n",
      "2   36\n",
      "3   64\n",
      "4  100\n"
     ]
    }
   ],
   "source": [
    "print(df1.iloc[-3:])"
   ]
  },
  {
   "cell_type": "markdown",
   "id": "de62a243-eb8a-4e48-834c-b09badd4f679",
   "metadata": {},
   "source": [
    "### 13. Rename the 'Name' column to 'FullName' in a DataFrame and display the DataFrame."
   ]
  },
  {
   "cell_type": "code",
   "execution_count": 79,
   "id": "30e3bfa5-ad0b-4153-b557-62b1c09b1850",
   "metadata": {
    "scrolled": true
   },
   "outputs": [
    {
     "name": "stdout",
     "output_type": "stream",
     "text": [
      "      Name  Age      City\n",
      "0   Vedant   38  New York\n",
      "1  Devansh   30     Miami\n",
      "2   Aditya   25    Mumbai\n",
      "3    Tanay   46    Madrid \n",
      "\n",
      "\tAfter renaming\n",
      "  FullName  Age      City\n",
      "0   Vedant   38  New York\n",
      "1  Devansh   30     Miami\n",
      "2   Aditya   25    Mumbai\n",
      "3    Tanay   46    Madrid\n"
     ]
    }
   ],
   "source": [
    "print(df,'\\n')\n",
    "print('\\tAfter renaming')\n",
    "print(df.rename(columns = {'Name':'FullName'}))"
   ]
  },
  {
   "cell_type": "markdown",
   "id": "144e434d-8119-46f9-8c97-d2238da6ac25",
   "metadata": {},
   "source": [
    "### 14. Use .loc to select rows based on a condition and specific columns."
   ]
  },
  {
   "cell_type": "code",
   "execution_count": 84,
   "id": "7da7fcfb-d1eb-4ac2-8f47-f72bd46e26c5",
   "metadata": {},
   "outputs": [
    {
     "name": "stdout",
     "output_type": "stream",
     "text": [
      "      Name  Age      City\n",
      "0   Vedant   38  New York\n",
      "1  Devansh   30     Miami\n",
      "2   Aditya   25    Mumbai\n",
      "3    Tanay   46    Madrid \n",
      "\n",
      "      Name      City\n",
      "0   Vedant  New York\n",
      "1  Devansh     Miami\n",
      "3    Tanay    Madrid\n"
     ]
    }
   ],
   "source": [
    "print(df,'\\n')\n",
    "print(df.loc[df['Age']>25,['Name','City']])"
   ]
  },
  {
   "cell_type": "markdown",
   "id": "cc00460b-a390-4b3d-8eee-af7d79e26585",
   "metadata": {},
   "source": [
    "### 15. Create a DataFrame from a list of lists with columns ['A', 'B', 'C'] and calculate the mean of each column."
   ]
  },
  {
   "cell_type": "code",
   "execution_count": 87,
   "id": "10f4f4fb-0724-4e64-9cb4-bab9a7b9d486",
   "metadata": {},
   "outputs": [
    {
     "name": "stdout",
     "output_type": "stream",
     "text": [
      "   A  B  C\n",
      "0  1  3  5\n",
      "1  2  4  6\n",
      "2  1  2  3 \n",
      "\n",
      "The means of each columns are: \n",
      "A    1.333333\n",
      "B    3.000000\n",
      "C    4.666667\n",
      "dtype: float64\n"
     ]
    }
   ],
   "source": [
    "df2 = pd.DataFrame([[1,3,5],[2,4,6],[1,2,3]],columns = ['A','B','C'])\n",
    "print(df2,'\\n')\n",
    "print('The means of each columns are: ')\n",
    "print(df2.mean())"
   ]
  },
  {
   "cell_type": "markdown",
   "id": "e8859fdd-fa42-437c-952e-04b803fe1e0d",
   "metadata": {},
   "source": [
    "### 16. Load the Titanic dataset from kaggle into a DataFrame and display the first 5 rows "
   ]
  },
  {
   "cell_type": "code",
   "execution_count": 90,
   "id": "8e4fbf23-a3d9-4802-8a40-8258e7ebd080",
   "metadata": {},
   "outputs": [
    {
     "name": "stdout",
     "output_type": "stream",
     "text": [
      "   PassengerId  Survived\n",
      "0          892         0\n",
      "1          893         1\n",
      "2          894         0\n",
      "3          895         0\n",
      "4          896         1\n"
     ]
    }
   ],
   "source": [
    "df3 = pd.read_csv('gender_submission.csv')\n",
    "print(df3.head())"
   ]
  },
  {
   "cell_type": "markdown",
   "id": "cc0d4d67-9cf5-4667-a8a2-13d579fc6718",
   "metadata": {},
   "source": [
    "### 17. Calculate the correlation matrix of a DataFrame with numerical columns from the Wine Quality dataset."
   ]
  },
  {
   "cell_type": "code",
   "execution_count": 96,
   "id": "77f037c9-43f0-4e15-b757-04b828d19ea3",
   "metadata": {},
   "outputs": [
    {
     "name": "stdout",
     "output_type": "stream",
     "text": [
      "                      fixed acidity  volatile acidity  citric acid  \\\n",
      "fixed acidity              1.000000         -0.906283     0.994920   \n",
      "volatile acidity          -0.906283          1.000000    -0.943763   \n",
      "citric acid                0.994920         -0.943763     1.000000   \n",
      "residual sugar            -0.275990          0.654122    -0.368253   \n",
      "chlorides                 -0.322814          0.680229    -0.409028   \n",
      "free sulfur dioxide        0.211813          0.211116     0.112616   \n",
      "total sulfur dioxide       0.481653         -0.068122     0.393784   \n",
      "density                    0.431179         -0.753635     0.510347   \n",
      "pH                        -0.650087          0.281700    -0.577617   \n",
      "sulphates                 -0.143275          0.533672    -0.233842   \n",
      "alcohol                    0.517672         -0.144841     0.444262   \n",
      "quality                    0.992372         -0.946100     0.997530   \n",
      "\n",
      "                      residual sugar  chlorides  free sulfur dioxide  \\\n",
      "fixed acidity              -0.275990  -0.322814             0.211813   \n",
      "volatile acidity            0.654122   0.680229             0.211116   \n",
      "citric acid                -0.368253  -0.409028             0.112616   \n",
      "residual sugar              1.000000   0.989394             0.831424   \n",
      "chlorides                   0.989394   1.000000             0.756363   \n",
      "free sulfur dioxide         0.831424   0.756363             1.000000   \n",
      "total sulfur dioxide        0.709393   0.665273             0.913654   \n",
      "density                    -0.967665  -0.991438            -0.668041   \n",
      "pH                         -0.538096  -0.508630            -0.784456   \n",
      "sulphates                   0.978868   0.982850             0.825581   \n",
      "alcohol                     0.628828   0.625057             0.760469   \n",
      "quality                    -0.385077  -0.434493             0.116423   \n",
      "\n",
      "                      total sulfur dioxide   density        pH  sulphates  \\\n",
      "fixed acidity                     0.481653  0.431179 -0.650087  -0.143275   \n",
      "volatile acidity                 -0.068122 -0.753635  0.281700   0.533672   \n",
      "citric acid                       0.393784  0.510347 -0.577617  -0.233842   \n",
      "residual sugar                    0.709393 -0.967665 -0.538096   0.978868   \n",
      "chlorides                         0.665273 -0.991438 -0.508630   0.982850   \n",
      "free sulfur dioxide               0.913654 -0.668041 -0.784456   0.825581   \n",
      "total sulfur dioxide              1.000000 -0.565955 -0.967208   0.787313   \n",
      "density                          -0.565955  1.000000  0.405161  -0.953672   \n",
      "pH                               -0.967208  0.405161  1.000000  -0.658556   \n",
      "sulphates                         0.787313 -0.953672 -0.658556   1.000000   \n",
      "alcohol                           0.952707 -0.540590 -0.977817   0.756644   \n",
      "quality                           0.376633  0.537944 -0.552727  -0.261892   \n",
      "\n",
      "                       alcohol   quality  \n",
      "fixed acidity         0.517672  0.992372  \n",
      "volatile acidity     -0.144841 -0.946100  \n",
      "citric acid           0.444262  0.997530  \n",
      "residual sugar        0.628828 -0.385077  \n",
      "chlorides             0.625057 -0.434493  \n",
      "free sulfur dioxide   0.760469  0.116423  \n",
      "total sulfur dioxide  0.952707  0.376633  \n",
      "density              -0.540590  0.537944  \n",
      "pH                   -0.977817 -0.552727  \n",
      "sulphates             0.756644 -0.261892  \n",
      "alcohol               1.000000  0.408248  \n",
      "quality               0.408248  1.000000  \n"
     ]
    }
   ],
   "source": [
    "df3 = pd.read_csv('winequality-red.csv')\n",
    "print(df3.head().corr())"
   ]
  },
  {
   "cell_type": "markdown",
   "id": "4c7800b2-c5a6-4dea-bfa4-e09b48628ae4",
   "metadata": {},
   "source": [
    "### 18. Create a DataFrame with a 'Date' column and set it as the index, then resample the data by month."
   ]
  },
  {
   "cell_type": "code",
   "execution_count": 100,
   "id": "7f8fa58b-e276-4081-be26-82b7748e508a",
   "metadata": {},
   "outputs": [
    {
     "name": "stdout",
     "output_type": "stream",
     "text": [
      "Original DataFrame:\n",
      "               Value\n",
      "2023-01-01  0.311890\n",
      "2023-01-02  0.921039\n",
      "2023-01-03  0.893399\n",
      "2023-01-04  0.033759\n",
      "2023-01-05  0.121660\n",
      "\n",
      "Monthly Resampled DataFrame:\n",
      "               Value\n",
      "2023-01-31  0.517178\n",
      "2023-02-28  0.544535\n",
      "2023-03-31  0.493568\n",
      "2023-04-30  0.610738\n"
     ]
    }
   ],
   "source": [
    "date_range = pd.date_range(start='2023-01-01', periods=100, freq='D')\n",
    "data = np.random.rand(100)\n",
    "df = pd.DataFrame(data, columns=['Value'], index=date_range)\n",
    "\n",
    "print(\"Original DataFrame:\")\n",
    "print(df.head())\n",
    "\n",
    "monthly_resampled = df.resample('ME').mean() #resampled to months\n",
    "\n",
    "print(\"\\nMonthly Resampled DataFrame:\")\n",
    "print(monthly_resampled)"
   ]
  }
 ],
 "metadata": {
  "kernelspec": {
   "display_name": "Python 3 (ipykernel)",
   "language": "python",
   "name": "python3"
  },
  "language_info": {
   "codemirror_mode": {
    "name": "ipython",
    "version": 3
   },
   "file_extension": ".py",
   "mimetype": "text/x-python",
   "name": "python",
   "nbconvert_exporter": "python",
   "pygments_lexer": "ipython3",
   "version": "3.11.4"
  },
  "widgets": {
   "application/vnd.jupyter.widget-state+json": {
    "state": {},
    "version_major": 2,
    "version_minor": 0
   }
  }
 },
 "nbformat": 4,
 "nbformat_minor": 5
}
