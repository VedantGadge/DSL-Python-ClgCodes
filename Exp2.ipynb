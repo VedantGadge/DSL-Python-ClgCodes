{
 "cells": [
  {
   "cell_type": "markdown",
   "id": "15fbc903-f8ff-4494-9e66-72b1d9460ea6",
   "metadata": {},
   "source": [
    "# Experiment 2"
   ]
  },
  {
   "cell_type": "markdown",
   "id": "8561c13d-89c0-45cd-b477-47ed1a2c6e71",
   "metadata": {},
   "source": [
    "#### 1. Create a string variable s with the value \"Hello World\" and print its length. "
   ]
  },
  {
   "cell_type": "code",
   "execution_count": 7,
   "id": "4f927c19-b3a3-4f10-af37-0639389321a2",
   "metadata": {
    "scrolled": true
   },
   "outputs": [
    {
     "name": "stdout",
     "output_type": "stream",
     "text": [
      "The length of the string \"Hello World\" is 11\n"
     ]
    }
   ],
   "source": [
    "s = 'Hello World'\n",
    "print(f'The length of the string \\\"{s}\\\" is {len(s)}')"
   ]
  },
  {
   "cell_type": "markdown",
   "id": "8d4150a1-af74-4ee8-b04a-dc9d712e9f1c",
   "metadata": {},
   "source": [
    "#### 2. Convert the string \"Python Programming\" to lowercase and print it. "
   ]
  },
  {
   "cell_type": "code",
   "execution_count": 9,
   "id": "6748eca9-7dc5-484a-a92c-ef5d5b5a4af6",
   "metadata": {
    "scrolled": true
   },
   "outputs": [
    {
     "name": "stdout",
     "output_type": "stream",
     "text": [
      "The string Python Programming converted to lowercase: python programming\n"
     ]
    }
   ],
   "source": [
    "s = 'Python Programming'\n",
    "print(f'The string {s} converted to lowercase: {s.lower()}')"
   ]
  },
  {
   "cell_type": "markdown",
   "id": "572ee891-016d-4ef3-9025-9e571661a7ec",
   "metadata": {},
   "source": [
    "#### 3. Concatenate the strings \"Data\" and \"Science\" with a space in between and print the result."
   ]
  },
  {
   "cell_type": "code",
   "execution_count": 4,
   "id": "f282ad68-84fc-453d-af15-7aa5e0ef027f",
   "metadata": {
    "scrolled": true
   },
   "outputs": [
    {
     "name": "stdout",
     "output_type": "stream",
     "text": [
      "The concatenation of Data and Science with a space in between: Data Science\n"
     ]
    }
   ],
   "source": [
    "a = 'Data'\n",
    "b = 'Science'\n",
    "c = a + ' ' + b\n",
    "print(f'The concatenation of {a} and {b} with a space in between: {c}')"
   ]
  },
  {
   "cell_type": "markdown",
   "id": "d9366d8f-2317-4c5b-80bb-03a704e363ef",
   "metadata": {},
   "source": [
    "#### 4. Remove all leading and trailing whitespace from the string \" Data Analysis \" and print it. "
   ]
  },
  {
   "cell_type": "code",
   "execution_count": 9,
   "id": "b3bc3ab9-600a-446d-8726-af67cda938a4",
   "metadata": {
    "scrolled": true
   },
   "outputs": [
    {
     "name": "stdout",
     "output_type": "stream",
     "text": [
      "Data Analysis\n"
     ]
    }
   ],
   "source": [
    "print(' Data Analysis'.strip())"
   ]
  },
  {
   "cell_type": "markdown",
   "id": "16d4200d-b6fc-4647-b848-85c67bc43493",
   "metadata": {},
   "source": [
    "#### 5. Check if the string \"level\" is a palindrome (reads the same forwards and backwards) and print the result."
   ]
  },
  {
   "cell_type": "code",
   "execution_count": 4,
   "id": "4e406853-ece8-4c17-90ae-98797036fce6",
   "metadata": {
    "scrolled": true
   },
   "outputs": [
    {
     "name": "stdout",
     "output_type": "stream",
     "text": [
      "The string level is a palindrome\n"
     ]
    }
   ],
   "source": [
    "s = 'level'\n",
    "print(f'The string {s} is a palindrome' if s == s[::-1] else f'The string {s} is not a palindrome')"
   ]
  },
  {
   "cell_type": "markdown",
   "id": "e53b299c-d47a-4340-9e3f-13c804e8dd50",
   "metadata": {},
   "source": [
    "#### 6. WAP to print all even length words in a string."
   ]
  },
  {
   "cell_type": "code",
   "execution_count": 11,
   "id": "40eea7ba-a628-4989-851d-a9eec86f566f",
   "metadata": {
    "scrolled": true
   },
   "outputs": [
    {
     "name": "stdin",
     "output_type": "stream",
     "text": [
      "Enter a string:  Hello my name is Vedant Gadge\n"
     ]
    },
    {
     "name": "stdout",
     "output_type": "stream",
     "text": [
      "my\n",
      "name\n",
      "is\n",
      "Vedant\n"
     ]
    }
   ],
   "source": [
    "s = input('Enter a string: ')\n",
    "words = s.split()\n",
    "for i in words:\n",
    "    if len(i)%2==0:\n",
    "        print(i)"
   ]
  },
  {
   "cell_type": "markdown",
   "id": "6f3568c2-559d-4f04-8228-d4b187d84ad4",
   "metadata": {},
   "source": [
    "#### 7. WAP to print number of cvc (consonant-vowel-consonant) pairs in each string."
   ]
  },
  {
   "cell_type": "code",
   "execution_count": 18,
   "id": "4fe6a93c-b08c-4105-aaf3-63101c9afde8",
   "metadata": {
    "scrolled": true
   },
   "outputs": [
    {
     "name": "stdin",
     "output_type": "stream",
     "text": [
      "Enter a string: The quick brown fox jumped over the lazy dog.\n"
     ]
    },
    {
     "name": "stdout",
     "output_type": "stream",
     "text": [
      "The total no. of CVC pairs in the string The quick brown fox jumped over the lazy dog. is : 7\n"
     ]
    }
   ],
   "source": [
    "import re\n",
    "\n",
    "s = input('Enter a string:')\n",
    "pattern = re.compile(r'(?i)([^aeiou][aeiou][^aeiou])')\n",
    "cvc_pairs = {word: len(pattern.findall(word)) for word in s.split()}\n",
    "print(f'The total no. of CVC pairs in the string {s} is : {sum(cvc_pairs.values())}')"
   ]
  },
  {
   "cell_type": "markdown",
   "id": "9275f20a-058f-4f05-b171-bff70baed267",
   "metadata": {},
   "source": [
    "#### 8. Reverse the string ‘Hello’ only using string slicing."
   ]
  },
  {
   "cell_type": "code",
   "execution_count": 22,
   "id": "f8f8d51f-ba08-4ba0-bcd3-ffbcef8d8b50",
   "metadata": {
    "scrolled": true
   },
   "outputs": [
    {
     "name": "stdout",
     "output_type": "stream",
     "text": [
      "The reverse of the string 'Hello' is 'olleH'\n"
     ]
    }
   ],
   "source": [
    "s = 'Hello'\n",
    "rev_s = s[::-1]\n",
    "print(f'The reverse of the string \\'{s}\\' is \\'{rev_s}\\'')\n"
   ]
  },
  {
   "cell_type": "markdown",
   "id": "b4aaf585-24af-4514-a5c0-eec9740884c5",
   "metadata": {},
   "source": [
    "#### 9. WAP to remove more than 2 successive occurrences of the same alphabet in a sentence, example: “India is theeee besssst” must be made “India is the best”."
   ]
  },
  {
   "cell_type": "code",
   "execution_count": 7,
   "id": "29498ef9-93e8-43c6-a4a7-c1e9e6dadcd1",
   "metadata": {
    "scrolled": true
   },
   "outputs": [
    {
     "name": "stdin",
     "output_type": "stream",
     "text": [
      "Enter the sentence: India is theeee besssst\n"
     ]
    },
    {
     "name": "stdout",
     "output_type": "stream",
     "text": [
      "India is the best\n"
     ]
    }
   ],
   "source": [
    "def remove_excessive_occurrences(sentence):\n",
    "    result = \"\"  \n",
    "    prev_char = ''\n",
    "    count = 0\n",
    "    for char in sentence:\n",
    "        if char == prev_char:\n",
    "            count += 1\n",
    "        else:\n",
    "            prev_char = char\n",
    "            count = 1\n",
    "        if count <= 1:\n",
    "            result += char \n",
    "    return result\n",
    "\n",
    "sentence = input('Enter the sentence:')\n",
    "result_sentence = remove_excessive_occurrences(sentence)\n",
    "print(result_sentence)"
   ]
  },
  {
   "cell_type": "markdown",
   "id": "b26ae809-4645-4108-9e24-440a09b522fb",
   "metadata": {},
   "source": [
    "#### 10. WAP to find minimum number of rotations to obtain actual string. Example: given string is “lohel” actual string is “hello” thus 2 rotations as l,o has to be rotated to the right to get actual string"
   ]
  },
  {
   "cell_type": "code",
   "execution_count": 9,
   "id": "2e81ad4e-e499-43cb-a30a-75f34ce4815e",
   "metadata": {
    "scrolled": true
   },
   "outputs": [
    {
     "name": "stdin",
     "output_type": "stream",
     "text": [
      "Enter the given string:  lohel\n",
      "Enter the actual string:  hello\n"
     ]
    },
    {
     "name": "stdout",
     "output_type": "stream",
     "text": [
      "The no. of rotations performed to get the actual string: 2\n"
     ]
    }
   ],
   "source": [
    "def find_minimum_rotations(given_string, actual_string):\n",
    "    if len(given_string) != len(actual_string):\n",
    "        return False\n",
    "    concatenated_string = given_string + given_string\n",
    "    for i in range(len(given_string)):\n",
    "        #If the substring starting from index i to i+len(given_string) matches the actual string.\n",
    "        if concatenated_string[i:i+len(given_string)] == actual_string: \n",
    "            return i\n",
    "    return False\n",
    "\n",
    "given_string = input('Enter the given string: ')\n",
    "actual_string = input('Enter the actual string: ')\n",
    "rotations = find_minimum_rotations(given_string, actual_string)\n",
    "if rotations == False:\n",
    "    print('Error')\n",
    "else:\n",
    "    print(f'The no. of rotations performed to get the actual string: {rotations}')"
   ]
  },
  {
   "cell_type": "markdown",
   "id": "c4e5a808-5775-4ced-bdd0-67c6517e0c25",
   "metadata": {},
   "source": [
    "#### 11. WAP to trim leading and trailing whitespaces from the string"
   ]
  },
  {
   "cell_type": "code",
   "execution_count": 1,
   "id": "0dcc2d29-0fd9-4203-af41-ed694a879aab",
   "metadata": {
    "scrolled": true
   },
   "outputs": [
    {
     "name": "stdin",
     "output_type": "stream",
     "text": [
      "Enter a string:  hello vedant \n"
     ]
    },
    {
     "name": "stdout",
     "output_type": "stream",
     "text": [
      "hello vedant\n"
     ]
    }
   ],
   "source": [
    "s = input('Enter a string:')\n",
    "print(s.strip())"
   ]
  },
  {
   "cell_type": "markdown",
   "id": "f4c69ab8-d2d8-42d1-ab32-5cd617b59f36",
   "metadata": {},
   "source": [
    "#### 12. WAP to extract and display a substring using slicing based on user-specified start and end indices."
   ]
  },
  {
   "cell_type": "code",
   "execution_count": 7,
   "id": "e6ffa900-d3a1-4974-8255-5f01d2611ffa",
   "metadata": {
    "scrolled": true
   },
   "outputs": [
    {
     "name": "stdin",
     "output_type": "stream",
     "text": [
      "Enter a string: Vedant Gadge\n",
      "Enter the start index: 0\n",
      "Enter the end index: 6\n"
     ]
    },
    {
     "name": "stdout",
     "output_type": "stream",
     "text": [
      "The sliced substring is: Vedant\n"
     ]
    }
   ],
   "source": [
    "s = input('Enter a string:')\n",
    "s_i= int(input('Enter the start index:'))\n",
    "s_e= int(input('Enter the end index:'))\n",
    "print(f'The sliced substring is: {(s[s_i:s_e])}')"
   ]
  },
  {
   "cell_type": "markdown",
   "id": "ec5fdf3b-e10d-417c-8680-7015ea3deece",
   "metadata": {},
   "source": [
    "#### 13. WAP to count the number of words in the string."
   ]
  },
  {
   "cell_type": "code",
   "execution_count": 6,
   "id": "3181a4a5-6af8-4527-bdb5-1a086481a3d8",
   "metadata": {
    "scrolled": true
   },
   "outputs": [
    {
     "name": "stdin",
     "output_type": "stream",
     "text": [
      "Enter the string:  Hello my name is Vedant Gadge\n"
     ]
    },
    {
     "name": "stdout",
     "output_type": "stream",
     "text": [
      "The no. of words in the given string is: 6\n"
     ]
    }
   ],
   "source": [
    "s = input('Enter the string: ')\n",
    "words = s.split()\n",
    "print(f'The no. of words in the given string is: {len(words)}')"
   ]
  },
  {
   "cell_type": "markdown",
   "id": "57889d60-9dd4-4a5c-9ef5-f6d913f5e440",
   "metadata": {},
   "source": [
    "#### 14. WAP to split the string into a list of words and then join them back into a single string with a user-defined delimiter"
   ]
  },
  {
   "cell_type": "code",
   "execution_count": 9,
   "id": "4a8deb00-88a3-4391-8588-6bea9c0b1369",
   "metadata": {
    "scrolled": true
   },
   "outputs": [
    {
     "name": "stdin",
     "output_type": "stream",
     "text": [
      "Enter the original string: Hello my name is Vedant G\n",
      "Enter the delimiter: -\n"
     ]
    },
    {
     "name": "stdout",
     "output_type": "stream",
     "text": [
      "New string with user-defined delimter: Hello-my-name-is-Vedant-G\n"
     ]
    }
   ],
   "source": [
    "s = input('Enter the original string:')\n",
    "d = input('Enter the delimiter:')\n",
    "words = s.split()\n",
    "print(f'New string with user-defined delimter: {d.join(words)}')"
   ]
  },
  {
   "cell_type": "markdown",
   "id": "3c85d6a7-be7e-443d-b920-d8b973ec15b0",
   "metadata": {},
   "source": [
    "#### 15. WAP to allow the user to input multiple values (e.g., name, age, city) and format them into a sentence using placeholders"
   ]
  },
  {
   "cell_type": "code",
   "execution_count": 1,
   "id": "99678fb1-3555-4545-9764-204a97b6a92a",
   "metadata": {
    "scrolled": true
   },
   "outputs": [
    {
     "name": "stdin",
     "output_type": "stream",
     "text": [
      "Enter your name: Vedant Gadge\n",
      "Enter your age: 18\n",
      "Enter your city: Mumbai\n"
     ]
    },
    {
     "name": "stdout",
     "output_type": "stream",
     "text": [
      "Vedant Gadge is 18 yrs. old and lives in Mumbai.\n"
     ]
    }
   ],
   "source": [
    "name = input('Enter your name:')\n",
    "age = input('Enter your age:')\n",
    "city = input('Enter your city:')\n",
    "print(f'{name} is {age} yrs. old and lives in {city}.')"
   ]
  },
  {
   "cell_type": "markdown",
   "id": "46fa31ff-e032-404c-9159-6bc67d2d8c73",
   "metadata": {},
   "source": [
    "#### 16. WAP to display the frequency of each character in the string"
   ]
  },
  {
   "cell_type": "code",
   "execution_count": 12,
   "id": "96dc5673-5a88-47c9-be19-404f0b8f5ef7",
   "metadata": {
    "scrolled": true
   },
   "outputs": [
    {
     "name": "stdin",
     "output_type": "stream",
     "text": [
      "Enter a string:  The balloon is yellow\n"
     ]
    },
    {
     "name": "stdout",
     "output_type": "stream",
     "text": [
      "'T': 1\n",
      "'h': 1\n",
      "'e': 2\n",
      "' ': 3\n",
      "'b': 1\n",
      "'a': 1\n",
      "'l': 4\n",
      "'o': 3\n",
      "'n': 1\n",
      "'i': 1\n",
      "'s': 1\n",
      "'y': 1\n",
      "'w': 1\n"
     ]
    }
   ],
   "source": [
    "s = input('Enter a string: ')\n",
    "freq = {}\n",
    "for char in s:\n",
    "    if char in freq:\n",
    "        freq[char] += 1\n",
    "    else:\n",
    "        freq[char] = 1\n",
    "for char, count in freq.items():\n",
    "    print(f\"'{char}': {count}\")   "
   ]
  },
  {
   "cell_type": "markdown",
   "id": "9435509a-8899-4626-b90e-26128e4c4d9d",
   "metadata": {},
   "source": [
    "#### 17. Write a python program to takes a list of words, reverses the order of the words, and then joins them into a single string with a hyphen - as the separator."
   ]
  },
  {
   "cell_type": "code",
   "execution_count": 18,
   "id": "e6dbcef4-834a-4eae-8129-ed06cd11d2c0",
   "metadata": {
    "scrolled": true
   },
   "outputs": [
    {
     "name": "stdin",
     "output_type": "stream",
     "text": [
      "Enter a sentence: Welcome home\n"
     ]
    },
    {
     "name": "stdout",
     "output_type": "stream",
     "text": [
      "The final string is: home-Welcome\n"
     ]
    }
   ],
   "source": [
    "word_list = input('Enter a sentence:').split()\n",
    "rev_list = word_list[::-1]\n",
    "s= '-'.join(rev_list)\n",
    "print(f'The final string is: {s}')"
   ]
  }
 ],
 "metadata": {
  "kernelspec": {
   "display_name": "Python 3 (ipykernel)",
   "language": "python",
   "name": "python3"
  },
  "language_info": {
   "codemirror_mode": {
    "name": "ipython",
    "version": 3
   },
   "file_extension": ".py",
   "mimetype": "text/x-python",
   "name": "python",
   "nbconvert_exporter": "python",
   "pygments_lexer": "ipython3",
   "version": "3.11.4"
  },
  "widgets": {
   "application/vnd.jupyter.widget-state+json": {
    "state": {},
    "version_major": 2,
    "version_minor": 0
   }
  }
 },
 "nbformat": 4,
 "nbformat_minor": 5
}
