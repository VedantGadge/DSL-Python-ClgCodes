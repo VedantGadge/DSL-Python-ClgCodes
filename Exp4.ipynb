{
 "cells": [
  {
   "cell_type": "markdown",
   "id": "f9d44ee8-902d-4f32-9338-df190e75dd98",
   "metadata": {},
   "source": [
    "# Vedant Gadge D115 60009230120\n",
    "# DSL Experiment 4 "
   ]
  },
  {
   "cell_type": "markdown",
   "id": "8ba966d8-c7df-48c6-aa6f-0bb30c90a490",
   "metadata": {},
   "source": [
    "### 1. Define a function multiply(x, y) that returns the product of x and y."
   ]
  },
  {
   "cell_type": "code",
   "execution_count": 12,
   "id": "1119070a-6a7e-4036-90ed-f7b92a33d5a2",
   "metadata": {},
   "outputs": [
    {
     "name": "stdout",
     "output_type": "stream",
     "text": [
      "Enter two nos. to be multiplied:\n"
     ]
    },
    {
     "name": "stdin",
     "output_type": "stream",
     "text": [
      " 2\n",
      " 3\n"
     ]
    },
    {
     "name": "stdout",
     "output_type": "stream",
     "text": [
      "Product of 2 and 3: 6\n"
     ]
    }
   ],
   "source": [
    "def multiply(x,y):\n",
    "    return x*y\n",
    "print('Enter two nos. to be multiplied:')\n",
    "x = int(input())\n",
    "y = int(input())\n",
    "print(f'Product of {x} and {y}: {multiply(x,y)}')"
   ]
  },
  {
   "cell_type": "markdown",
   "id": "c7bef466-1524-4ba9-88d6-72970d5a4b5b",
   "metadata": {},
   "source": [
    "### 2.  Write a function is_even(num) that returns True if num is even, and False otherwise."
   ]
  },
  {
   "cell_type": "code",
   "execution_count": 11,
   "id": "ecead780-33dd-4d75-8f2b-5ae35b0ce935",
   "metadata": {},
   "outputs": [
    {
     "name": "stdin",
     "output_type": "stream",
     "text": [
      "Enter a no.: 78\n"
     ]
    },
    {
     "name": "stdout",
     "output_type": "stream",
     "text": [
      "True\n"
     ]
    }
   ],
   "source": [
    "def is_even(num):\n",
    "    return num%2==0 \n",
    "n = int(input('Enter a no.:'))\n",
    "print(is_even(n))"
   ]
  },
  {
   "cell_type": "markdown",
   "id": "b55dd8a8-9650-4e44-9c80-efee8d00b144",
   "metadata": {},
   "source": [
    "### 3. Create a function concat_strings(s1, s2) that returns the concatenation of s1 and s2."
   ]
  },
  {
   "cell_type": "code",
   "execution_count": 1,
   "id": "56a96bba-b2d1-4969-a00f-ad023a5e1a98",
   "metadata": {},
   "outputs": [
    {
     "name": "stdout",
     "output_type": "stream",
     "text": [
      "Enter two strings:\n"
     ]
    },
    {
     "name": "stdin",
     "output_type": "stream",
     "text": [
      " Vedant\n",
      " Gadge\n"
     ]
    },
    {
     "name": "stdout",
     "output_type": "stream",
     "text": [
      "Concatenation of the strings Vedant and Gadge is: VedantGadge\n"
     ]
    }
   ],
   "source": [
    "def concat_strings(s1,s2):\n",
    "    return s1+s2\n",
    "print('Enter two strings:')\n",
    "s1 = input()\n",
    "s2 = input()\n",
    "print(f'Concatenation of the strings {s1} and {s2} is: {concat_strings(s1,s2)}')"
   ]
  },
  {
   "cell_type": "markdown",
   "id": "77f6b337-684b-488e-9344-fce940337f20",
   "metadata": {},
   "source": [
    "### 4.  Define max_of_two(a, b) that returns the larger of a and b."
   ]
  },
  {
   "cell_type": "code",
   "execution_count": 16,
   "id": "3e63e55a-60c4-4357-9715-5f2881dc111d",
   "metadata": {
    "scrolled": true
   },
   "outputs": [
    {
     "name": "stdout",
     "output_type": "stream",
     "text": [
      "Enter two nos. :\n"
     ]
    },
    {
     "name": "stdin",
     "output_type": "stream",
     "text": [
      " 5\n",
      " 10\n"
     ]
    },
    {
     "name": "stdout",
     "output_type": "stream",
     "text": [
      "10 is the larger no.\n"
     ]
    }
   ],
   "source": [
    "def max_of_two(a,b):\n",
    "    return max(a,b)\n",
    "print('Enter two nos. :')\n",
    "a = int(input())\n",
    "b = int(input())\n",
    "print(f'{max_of_two(a,b)} is the larger no.')   "
   ]
  },
  {
   "cell_type": "markdown",
   "id": "64c1842b-dd2d-41a9-ab7b-9fece16b728c",
   "metadata": {},
   "source": [
    "### 5. Write a recursive function count_down(n) that prints numbers from n down to 1."
   ]
  },
  {
   "cell_type": "code",
   "execution_count": 24,
   "id": "9a809063-22ba-4461-a974-ca4a1e018dd9",
   "metadata": {},
   "outputs": [
    {
     "name": "stdin",
     "output_type": "stream",
     "text": [
      "Enter the value of n:  10\n"
     ]
    },
    {
     "name": "stdout",
     "output_type": "stream",
     "text": [
      "10\n",
      "9\n",
      "8\n",
      "7\n",
      "6\n",
      "5\n",
      "4\n",
      "3\n",
      "2\n",
      "1\n"
     ]
    }
   ],
   "source": [
    "def count_down(n):\n",
    "    if n<1:\n",
    "        return \n",
    "    print(n)\n",
    "    count_down(n-1)\n",
    "    \n",
    "n = int(input('Enter the value of n: '))\n",
    "count_down(n)"
   ]
  },
  {
   "cell_type": "markdown",
   "id": "e19de360-8cf1-4262-9bbe-365dedbc5fa7",
   "metadata": {},
   "source": [
    "### 6. Create a recursive function sum_of_list(lst) that returns the sum of all elements in the list lst."
   ]
  },
  {
   "cell_type": "code",
   "execution_count": 25,
   "id": "f1e10ebc-6111-4efd-81c4-8892c180521f",
   "metadata": {},
   "outputs": [
    {
     "name": "stdout",
     "output_type": "stream",
     "text": [
      "21\n"
     ]
    }
   ],
   "source": [
    "def sum_of_list(lst):\n",
    "    if not lst:\n",
    "        return 0\n",
    "    return lst[0] + sum_of_list(lst[1:]) \n",
    "print(sum_of_list([1,2,3,4,5,6]))\n",
    "\n",
    "# Each recursive call reduces the size of the list by removing the first element (lst[0]).\n",
    "# The first call to sum_of_list(lst) starts with the full list. \n",
    "# It takes the first element (lst[0]) and adds it to the result of the recursive call sum_of_list(lst[1:])."
   ]
  },
  {
   "cell_type": "markdown",
   "id": "fff9c755-61b2-4956-bd94-eeaab43f8210",
   "metadata": {},
   "source": [
    "### 7.  Define a recursive function find_max(lst) that returns the maximum value in the list lst"
   ]
  },
  {
   "cell_type": "code",
   "execution_count": 14,
   "id": "b8379657-1452-4a62-8223-efe6ed6bba80",
   "metadata": {},
   "outputs": [
    {
     "name": "stdout",
     "output_type": "stream",
     "text": [
      "9\n"
     ]
    }
   ],
   "source": [
    "def find_max(lst):\n",
    "    if len(lst) == 1:\n",
    "        return lst[0]\n",
    "    else:\n",
    "        maxLst = find_max(lst[1:])  # Recursive call on the rest of the list\n",
    "        return lst[0] if lst[0] > maxLst else maxLst\n",
    "print(find_max([1,4,6,2,9,3]))\n",
    "\n",
    "# The first element is compared with the maximum of the rest of the list. \n",
    "# The function keeps reducing the list and comparing until it finds the maximum."
   ]
  },
  {
   "cell_type": "markdown",
   "id": "87e61136-1ce4-4ace-b850-7beac4123992",
   "metadata": {},
   "source": [
    "### 8. Write a function reverse_list(lst) that reverses the list lst using recursion"
   ]
  },
  {
   "cell_type": "code",
   "execution_count": 15,
   "id": "e50eb567-47f8-4c85-819a-07f7bd1e8d41",
   "metadata": {},
   "outputs": [
    {
     "name": "stdout",
     "output_type": "stream",
     "text": [
      "[5, 4, 3, 2, 1]\n"
     ]
    }
   ],
   "source": [
    "def reverse_list(lst):\n",
    "    if len(lst) <= 1:\n",
    "        return lst\n",
    "    return reverse_list(lst[1:]) + [lst[0]]\n",
    "print(reverse_list([1,2,3,4,5]))"
   ]
  },
  {
   "cell_type": "markdown",
   "id": "d16e09fe-c6e2-4362-9b51-2a5417f2e67f",
   "metadata": {},
   "source": [
    "### 9. Create a recursive function string_length(s) that returns the length of the string s."
   ]
  },
  {
   "cell_type": "code",
   "execution_count": 3,
   "id": "8323e2af-c31d-4532-836f-0a1e2dd02013",
   "metadata": {},
   "outputs": [
    {
     "name": "stdin",
     "output_type": "stream",
     "text": [
      "Enter a string:  Balloon\n"
     ]
    },
    {
     "name": "stdout",
     "output_type": "stream",
     "text": [
      "The length of the string Balloon is: 7\n"
     ]
    }
   ],
   "source": [
    "def string_length(s): \n",
    "    if s == '':\n",
    "        return 0\n",
    "    return 1 + string_length(s[1:])\n",
    "s = input('Enter a string: ')\n",
    "print(f'The length of the string {s} is: {string_length(s)}')"
   ]
  },
  {
   "cell_type": "markdown",
   "id": "7760de70-c714-48c2-86b7-15fcf306b515",
   "metadata": {},
   "source": [
    "### 10. Define power(base, exp) that calculates base raised to the power of exp using recursion."
   ]
  },
  {
   "cell_type": "code",
   "execution_count": 10,
   "id": "41b305a4-9df6-48ac-bbe2-e388af834e3f",
   "metadata": {},
   "outputs": [
    {
     "name": "stdout",
     "output_type": "stream",
     "text": [
      "Enter the base and its exp: \n"
     ]
    },
    {
     "name": "stdin",
     "output_type": "stream",
     "text": [
      " 2\n",
      " 4\n"
     ]
    },
    {
     "name": "stdout",
     "output_type": "stream",
     "text": [
      "2 with exponent 4 = 16\n"
     ]
    }
   ],
   "source": [
    "def power(base,exp):\n",
    "    if exp == 0:\n",
    "        return 1\n",
    "    return base*power(base,exp-1)\n",
    "print('Enter the base and its exp: ')\n",
    "b = int(input())\n",
    "e = int(input())\n",
    "print(f'{b} with exponent {e} = {power(b,e)}')"
   ]
  },
  {
   "cell_type": "markdown",
   "id": "d84046fb-f2db-4802-bfe5-16b0b0deba2b",
   "metadata": {},
   "source": [
    "### 11. Write a recursive function print_pattern(n) that prints a pattern of * in n rows."
   ]
  },
  {
   "cell_type": "code",
   "execution_count": 4,
   "id": "b64dd49b-2c2a-4aef-bf9a-5be5ccd7f916",
   "metadata": {},
   "outputs": [
    {
     "name": "stdout",
     "output_type": "stream",
     "text": [
      "*\n",
      "**\n",
      "***\n",
      "****\n",
      "*****\n",
      "******\n",
      "*******\n",
      "********\n",
      "*********\n",
      "**********\n",
      "None\n"
     ]
    }
   ],
   "source": [
    "def print_pattern(n):\n",
    "    if(n<=0):\n",
    "        return\n",
    "    print_pattern(n-1)\n",
    "    print('*'*n)\n",
    "\n",
    "print(print_pattern(10))  "
   ]
  },
  {
   "cell_type": "markdown",
   "id": "e33759af-a143-4830-a48c-c24dd315d1aa",
   "metadata": {},
   "source": [
    "### 12. Create a recursive function factorial(n) that returns the factorial of n."
   ]
  },
  {
   "cell_type": "code",
   "execution_count": 9,
   "id": "3c5416d5-b576-4ed4-a07b-a2ccc4565f22",
   "metadata": {},
   "outputs": [
    {
     "name": "stdout",
     "output_type": "stream",
     "text": [
      "24\n"
     ]
    }
   ],
   "source": [
    "def factorial(n):\n",
    "    if n==0 or n==1:\n",
    "        return 1\n",
    "    else:\n",
    "        return n*factorial(n-1)\n",
    "print(factorial(4))"
   ]
  },
  {
   "cell_type": "markdown",
   "id": "4251ff0b-08bb-49e5-a2c2-1643479b706c",
   "metadata": {},
   "source": [
    "### 13. Write a function that merges two dictionaries. The merger should handle cases where the dictionaries have overlapping keys by storing values in a list. If a key exists in both dictionaries, the value in the resulting dictionary should be a list containing the values from both dictionaries."
   ]
  },
  {
   "cell_type": "code",
   "execution_count": 3,
   "id": "357b828b-ae1b-4705-84b0-ef012ab9db03",
   "metadata": {},
   "outputs": [
    {
     "name": "stdout",
     "output_type": "stream",
     "text": [
      "{'c': [3, 5], 'a': 1, 'd': 6, 'b': [2, 4]}\n"
     ]
    }
   ],
   "source": [
    "def mergeDicts(d1,d2):\n",
    "    d12 = {}\n",
    "    for key in set(d1) | set(d2): # Takes union of keys of both the dicts\n",
    "        if key in d1 and key in d2: # Checks if the key is present in both the dicts\n",
    "            d12[key] = [d1[key],d2[key]]\n",
    "        elif key in d1:\n",
    "            d12[key] = d1[key]\n",
    "        else:\n",
    "            d12[key] = d2[key]\n",
    "    return d12\n",
    "\n",
    "dict1 = {'a': 1, 'b': 2, 'c': 3}\n",
    "dict2 = {'b': 4, 'c': 5, 'd': 6}\n",
    "print(mergeDicts(dict1, dict2))"
   ]
  },
  {
   "cell_type": "markdown",
   "id": "de2f2cca-fdf3-4fca-8a59-3ad54479a056",
   "metadata": {},
   "source": [
    "### 14. Write program using lambda function to display numbers divisible by 9 from the given the list."
   ]
  },
  {
   "cell_type": "code",
   "execution_count": 5,
   "id": "c139a100-5117-4bcd-96db-4b5e28493205",
   "metadata": {},
   "outputs": [
    {
     "name": "stdout",
     "output_type": "stream",
     "text": [
      "[18, 27, 54, 63, 81, 90]\n"
     ]
    }
   ],
   "source": [
    "numbers = [7, 18, 22, 27, 35, 42, 54, 63, 74, 81, 90]\n",
    "\n",
    "divisible = lambda x: x%9 == 0\n",
    "\n",
    "result = list(filter(divisible, numbers)) # Filter applies the lambda condn to every element of the list numbers\n",
    "print(result)"
   ]
  },
  {
   "cell_type": "markdown",
   "id": "524b6a0e-988f-4d78-9bd5-e77d3cf2b333",
   "metadata": {},
   "source": [
    "### 15. Write a Python program to sort a list of tuples using Lambda. Original list of tuples: [('English', 88), ('Science', 90),('Maths', 97), ('Social sciences', 82)] Sorting the List of Tuples: [('Social sciences', 82), ('English', 88), ('Science', 90), ('Maths', 97)]\n"
   ]
  },
  {
   "cell_type": "code",
   "execution_count": 6,
   "id": "fa5f9edd-e191-4f61-8ba9-880a2499a449",
   "metadata": {},
   "outputs": [
    {
     "data": {
      "text/plain": [
       "[('Social sciences', 82), ('English', 88), ('Science', 90), ('Maths', 97)]"
      ]
     },
     "execution_count": 6,
     "metadata": {},
     "output_type": "execute_result"
    }
   ],
   "source": [
    "l = [('English', 88), ('Science', 90), ('Maths', 97), ('Social sciences', 82)]\n",
    "l.sort(key=lambda x: x[1])\n",
    "l"
   ]
  },
  {
   "cell_type": "markdown",
   "id": "357336c8-75dc-4e84-a67c-d12f0b4c2991",
   "metadata": {},
   "source": [
    "### 16. Write a Python program to find the intersection of two given arrays using Lambda Original arrays: [1, 2, 3, 5, 7, 8, 9, 10][1, 2, 4, 8, 9] Intersection of the said arrays: [1, 2, 8, 9]"
   ]
  },
  {
   "cell_type": "code",
   "execution_count": 7,
   "id": "67447627-f81b-4b7a-a50e-0d3bb7119196",
   "metadata": {},
   "outputs": [
    {
     "data": {
      "text/plain": [
       "[1, 2, 8, 9]"
      ]
     },
     "execution_count": 7,
     "metadata": {},
     "output_type": "execute_result"
    }
   ],
   "source": [
    "arr1 = [1, 2, 3, 5, 7, 8, 9, 10]\n",
    "arr2 = [1, 2, 4, 8, 9]\n",
    "intersection = list(filter(lambda x: x in arr2, arr1))\n",
    "intersection"
   ]
  },
  {
   "cell_type": "markdown",
   "id": "d03c5d75-d755-4643-972a-24ba4825ec90",
   "metadata": {},
   "source": [
    "### 17. Write a Python program to add two given lists using map and lambda. Original list:[1, 2, 3][4, 5, 6] Result: after adding two list [5, 7, 9]"
   ]
  },
  {
   "cell_type": "code",
   "execution_count": 8,
   "id": "a1bfb4ff-c694-475c-b0a3-bceff319681d",
   "metadata": {},
   "outputs": [
    {
     "data": {
      "text/plain": [
       "[5, 7, 9]"
      ]
     },
     "execution_count": 8,
     "metadata": {},
     "output_type": "execute_result"
    }
   ],
   "source": [
    "l1 = [1, 2, 3]\n",
    "l2 = [4, 5, 6]\n",
    "result = list(map(lambda x, y: x + y, l1, l2))\n",
    "result"
   ]
  },
  {
   "cell_type": "markdown",
   "id": "cc2c8d10-11a7-438d-9180-61fface53c9e",
   "metadata": {},
   "source": [
    "### 18. Write a Python program to remove all elements from a given list present in another list using lambda. Original lists: list1: [1, 2, 3, 4, 5, 6, 7, 8, 9, 10] list2: [2, 4, 6, 8] Remove all elements from 'list1' present in 'list2: [1, 3, 5, 7, 9, 10]\n"
   ]
  },
  {
   "cell_type": "code",
   "execution_count": 9,
   "id": "74eddc52-708b-4d45-895d-a3d1c83ca9de",
   "metadata": {},
   "outputs": [
    {
     "data": {
      "text/plain": [
       "[1, 3, 5, 7, 9, 10]"
      ]
     },
     "execution_count": 9,
     "metadata": {},
     "output_type": "execute_result"
    }
   ],
   "source": [
    "l1 = [1, 2, 3, 4, 5, 6, 7, 8, 9, 10]\n",
    "l2 = [2, 4, 6, 8]\n",
    "filtered_list = list(filter(lambda x: x not in l2, l1))\n",
    "filtered_list"
   ]
  },
  {
   "cell_type": "markdown",
   "id": "bef56386-6759-4027-8323-706b11392a3c",
   "metadata": {},
   "source": [
    "### 19. Read the total marks of 5 students and convert it to the percentage.\n",
    "### 1) Filter the top 3 students percentage from above result \n",
    "### 2) In the list of numbers from 1 to 20, replace multiples of 3 with \"Fizz\", multiples of 5 with \"Buzz\", and multiples of both 3 and 5 with \"FizzBuzz\". Use the lambda function to get the task done\n",
    "### 3) Takes a list of numbers as input, computes the sum of the numbers, and prints the sum along with the average"
   ]
  },
  {
   "cell_type": "code",
   "execution_count": 10,
   "id": "5d82319b-775d-4218-bc8a-efbbbfa8856d",
   "metadata": {},
   "outputs": [
    {
     "name": "stdout",
     "output_type": "stream",
     "text": [
      "[92.0, 90.0, 88.0]\n",
      "[1, 2, 'Fizz', 4, 'Buzz', 'Fizz', 7, 8, 'Fizz', 'Buzz', 11, 'Fizz', 13, 14, 'FizzBuzz', 16, 17, 'Fizz', 19, 'Buzz']\n",
      "Enter numbers separated by spaces:\n"
     ]
    },
    {
     "name": "stdin",
     "output_type": "stream",
     "text": [
      " 2 3 4 5 6 \n"
     ]
    },
    {
     "name": "stdout",
     "output_type": "stream",
     "text": [
      "Sum: 20\n",
      "Average: 4.0\n"
     ]
    }
   ],
   "source": [
    "marks = [85, 90, 78, 88, 92]\n",
    "percentages = list(map(lambda x: (x / 100) * 100, marks))\n",
    "top_3 = sorted(percentages, reverse=True)[:3]\n",
    "print(top_3)\n",
    "fizzbuzz = list(map(lambda x: 'FizzBuzz' if x % 3 == 0 and x % 5 == 0 else ('Fizz' if x % 3 == 0 else ('Buzz' if x % 5 == 0 else x)), range(1, 21)))\n",
    "print(fizzbuzz)\n",
    "def sum_and_average(lst):\n",
    " total = sum(lst)\n",
    " avg = total / len(lst)\n",
    " return total, avg\n",
    "print(\"Enter numbers separated by spaces:\")\n",
    "input_list = list(map(int, input().split()))\n",
    "total, avg = sum_and_average(input_list)\n",
    "print(\"Sum:\", total)\n",
    "print(\"Average:\", avg)"
   ]
  },
  {
   "cell_type": "markdown",
   "id": "0966a128-9f23-49c9-b3f8-18a51b6e4891",
   "metadata": {},
   "source": [
    "### 20. Write a Python program to count the occurrences of items in a given list using lambda. Original list: [3, 4, 5, 8, 0, 3, 8, 5, 0, 3, 1, 5, 2, 3, 4, 2] Count the occurrences of the items in the said list: {3: 4, 4: 2, 5: 3, 8: 2, 0: 2, 1: 1, 2: 2}"
   ]
  },
  {
   "cell_type": "code",
   "execution_count": 11,
   "id": "a23183a4-a17e-4c80-83d8-9ff770dd92b3",
   "metadata": {},
   "outputs": [
    {
     "data": {
      "text/plain": [
       "{0: 2, 1: 1, 2: 2, 3: 4, 4: 2, 5: 3, 8: 2}"
      ]
     },
     "execution_count": 11,
     "metadata": {},
     "output_type": "execute_result"
    }
   ],
   "source": [
    "l = [3, 4, 5, 8, 0, 3, 8, 5, 0, 3, 1, 5, 2, 3, 4, 2]\n",
    "occurrences = {i: l.count(i) for i in set(l)}\n",
    "occurrences"
   ]
  },
  {
   "cell_type": "code",
   "execution_count": null,
   "id": "9cda08dc-7818-4429-bf83-d18efdba49cb",
   "metadata": {},
   "outputs": [],
   "source": []
  }
 ],
 "metadata": {
  "kernelspec": {
   "display_name": "Python 3 (ipykernel)",
   "language": "python",
   "name": "python3"
  },
  "language_info": {
   "codemirror_mode": {
    "name": "ipython",
    "version": 3
   },
   "file_extension": ".py",
   "mimetype": "text/x-python",
   "name": "python",
   "nbconvert_exporter": "python",
   "pygments_lexer": "ipython3",
   "version": "3.11.4"
  },
  "widgets": {
   "application/vnd.jupyter.widget-state+json": {
    "state": {},
    "version_major": 2,
    "version_minor": 0
   }
  }
 },
 "nbformat": 4,
 "nbformat_minor": 5
}
